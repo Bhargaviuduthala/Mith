{
  "nbformat": 4,
  "nbformat_minor": 0,
  "metadata": {
    "colab": {
      "provenance": [],
      "collapsed_sections": []
    },
    "kernelspec": {
      "name": "python3",
      "display_name": "Python 3"
    },
    "language_info": {
      "name": "python"
    }
  },
  "cells": [
    {
      "cell_type": "code",
      "execution_count": 1,
      "metadata": {
        "id": "MCUCKIx2zbnb"
      },
      "outputs": [],
      "source": [
        "# Importing Libraries\n",
        "\n",
        "import warnings\n",
        "warnings.filterwarnings('ignore')\n",
        "\n",
        "import os\n",
        "import pandas as pd\n",
        "import numpy as np"
      ]
    },
    {
      "cell_type": "markdown",
      "source": [
        "### Import the train data, test data & read the data"
      ],
      "metadata": {
        "id": "5Yt4LZMM2k9U"
      }
    },
    {
      "cell_type": "code",
      "source": [
        "data = pd.read_csv('train_data-1611220940820.csv')"
      ],
      "metadata": {
        "id": "eBSe9sBQ2M-a"
      },
      "execution_count": 2,
      "outputs": []
    },
    {
      "cell_type": "code",
      "source": [
        "testdata = pd.read_csv('test_data-1611220982388.csv')"
      ],
      "metadata": {
        "id": "0xQXqYHC3h5n"
      },
      "execution_count": 3,
      "outputs": []
    },
    {
      "cell_type": "code",
      "source": [
        "data.shape"
      ],
      "metadata": {
        "colab": {
          "base_uri": "https://localhost:8080/"
        },
        "id": "3g6uIJH93uVN",
        "outputId": "247a1412-4905-4940-a298-fc9ca79b1df0"
      },
      "execution_count": 4,
      "outputs": [
        {
          "output_type": "execute_result",
          "data": {
            "text/plain": [
              "(76529, 11)"
            ]
          },
          "metadata": {},
          "execution_count": 4
        }
      ]
    },
    {
      "cell_type": "code",
      "source": [
        "testdata.shape"
      ],
      "metadata": {
        "colab": {
          "base_uri": "https://localhost:8080/"
        },
        "id": "FWj-MC543yb6",
        "outputId": "0fdbe07c-7e52-4ab2-ce1b-ced2b227e14a"
      },
      "execution_count": 5,
      "outputs": [
        {
          "output_type": "execute_result",
          "data": {
            "text/plain": [
              "(19133, 10)"
            ]
          },
          "metadata": {},
          "execution_count": 5
        }
      ]
    },
    {
      "cell_type": "code",
      "source": [
        "data.columns"
      ],
      "metadata": {
        "colab": {
          "base_uri": "https://localhost:8080/"
        },
        "id": "kjNCBIFp32Az",
        "outputId": "26fe26b4-9736-4f5a-9941-7991c19a20bd"
      },
      "execution_count": 6,
      "outputs": [
        {
          "output_type": "execute_result",
          "data": {
            "text/plain": [
              "Index(['transaction_number', 'user_id', 'payment_method', 'partner_id',\n",
              "       'partner_category', 'country', 'device_type', 'money_transacted',\n",
              "       'transaction_initiation', 'partner_pricing_category', 'is_fraud'],\n",
              "      dtype='object')"
            ]
          },
          "metadata": {},
          "execution_count": 6
        }
      ]
    },
    {
      "cell_type": "code",
      "source": [
        "testdata.columns"
      ],
      "metadata": {
        "colab": {
          "base_uri": "https://localhost:8080/"
        },
        "id": "rBykb4ooVb8T",
        "outputId": "a3f2275e-a2fc-490a-fdbe-67834be2bfe1"
      },
      "execution_count": 7,
      "outputs": [
        {
          "output_type": "execute_result",
          "data": {
            "text/plain": [
              "Index(['transaction_number', 'user_id', 'payment_method', 'partner_id',\n",
              "       'partner_category', 'country', 'device_type', 'money_transacted',\n",
              "       'transaction_initiation', 'partner_pricing_category'],\n",
              "      dtype='object')"
            ]
          },
          "metadata": {},
          "execution_count": 7
        }
      ]
    },
    {
      "cell_type": "code",
      "source": [
        "data.head()"
      ],
      "metadata": {
        "colab": {
          "base_uri": "https://localhost:8080/",
          "height": 357
        },
        "id": "pZ8kIu004NR7",
        "outputId": "ca3e7fbe-71d6-43e2-e60c-24eac68347d8"
      },
      "execution_count": 8,
      "outputs": [
        {
          "output_type": "execute_result",
          "data": {
            "text/plain": [
              "   transaction_number   user_id          payment_method  partner_id  \\\n",
              "0        144703125000  17539344  sbi_atm_cum_debit_card       47334   \n",
              "1      77406814453032  24710841       e_wallet_payments       78890   \n",
              "2     308929485482801  24265476       e_wallet_payments       78890   \n",
              "3     665270027747073  10240000       other_debit_cards      102557   \n",
              "4      38276160171101   5880625       other_debit_cards      118335   \n",
              "\n",
              "  partner_category  country      device_type  money_transacted  \\\n",
              "0            cat_1  IND_INR  android_devices              -5.0   \n",
              "1            cat_2  IND_INR        other_pcs             100.0   \n",
              "2            cat_2  IND_INR        other_pcs              50.0   \n",
              "3            cat_3  IND_INR        other_pcs            1000.0   \n",
              "4            cat_1  IND_INR        other_pcs             200.0   \n",
              "\n",
              "      transaction_initiation  partner_pricing_category  is_fraud  \n",
              "0  2016-11-15 19:16:12+00:00                         2         0  \n",
              "1  2017-01-11 09:25:33+00:00                         2         0  \n",
              "2  2016-12-07 07:58:09+00:00                         2         0  \n",
              "3  2017-01-11 16:15:44+00:00                         2         0  \n",
              "4  2016-11-16 17:04:42+00:00                         2         0  "
            ],
            "text/html": [
              "\n",
              "  <div id=\"df-471175ae-77ce-4b05-b7c2-d5624507a6c9\">\n",
              "    <div class=\"colab-df-container\">\n",
              "      <div>\n",
              "<style scoped>\n",
              "    .dataframe tbody tr th:only-of-type {\n",
              "        vertical-align: middle;\n",
              "    }\n",
              "\n",
              "    .dataframe tbody tr th {\n",
              "        vertical-align: top;\n",
              "    }\n",
              "\n",
              "    .dataframe thead th {\n",
              "        text-align: right;\n",
              "    }\n",
              "</style>\n",
              "<table border=\"1\" class=\"dataframe\">\n",
              "  <thead>\n",
              "    <tr style=\"text-align: right;\">\n",
              "      <th></th>\n",
              "      <th>transaction_number</th>\n",
              "      <th>user_id</th>\n",
              "      <th>payment_method</th>\n",
              "      <th>partner_id</th>\n",
              "      <th>partner_category</th>\n",
              "      <th>country</th>\n",
              "      <th>device_type</th>\n",
              "      <th>money_transacted</th>\n",
              "      <th>transaction_initiation</th>\n",
              "      <th>partner_pricing_category</th>\n",
              "      <th>is_fraud</th>\n",
              "    </tr>\n",
              "  </thead>\n",
              "  <tbody>\n",
              "    <tr>\n",
              "      <th>0</th>\n",
              "      <td>144703125000</td>\n",
              "      <td>17539344</td>\n",
              "      <td>sbi_atm_cum_debit_card</td>\n",
              "      <td>47334</td>\n",
              "      <td>cat_1</td>\n",
              "      <td>IND_INR</td>\n",
              "      <td>android_devices</td>\n",
              "      <td>-5.0</td>\n",
              "      <td>2016-11-15 19:16:12+00:00</td>\n",
              "      <td>2</td>\n",
              "      <td>0</td>\n",
              "    </tr>\n",
              "    <tr>\n",
              "      <th>1</th>\n",
              "      <td>77406814453032</td>\n",
              "      <td>24710841</td>\n",
              "      <td>e_wallet_payments</td>\n",
              "      <td>78890</td>\n",
              "      <td>cat_2</td>\n",
              "      <td>IND_INR</td>\n",
              "      <td>other_pcs</td>\n",
              "      <td>100.0</td>\n",
              "      <td>2017-01-11 09:25:33+00:00</td>\n",
              "      <td>2</td>\n",
              "      <td>0</td>\n",
              "    </tr>\n",
              "    <tr>\n",
              "      <th>2</th>\n",
              "      <td>308929485482801</td>\n",
              "      <td>24265476</td>\n",
              "      <td>e_wallet_payments</td>\n",
              "      <td>78890</td>\n",
              "      <td>cat_2</td>\n",
              "      <td>IND_INR</td>\n",
              "      <td>other_pcs</td>\n",
              "      <td>50.0</td>\n",
              "      <td>2016-12-07 07:58:09+00:00</td>\n",
              "      <td>2</td>\n",
              "      <td>0</td>\n",
              "    </tr>\n",
              "    <tr>\n",
              "      <th>3</th>\n",
              "      <td>665270027747073</td>\n",
              "      <td>10240000</td>\n",
              "      <td>other_debit_cards</td>\n",
              "      <td>102557</td>\n",
              "      <td>cat_3</td>\n",
              "      <td>IND_INR</td>\n",
              "      <td>other_pcs</td>\n",
              "      <td>1000.0</td>\n",
              "      <td>2017-01-11 16:15:44+00:00</td>\n",
              "      <td>2</td>\n",
              "      <td>0</td>\n",
              "    </tr>\n",
              "    <tr>\n",
              "      <th>4</th>\n",
              "      <td>38276160171101</td>\n",
              "      <td>5880625</td>\n",
              "      <td>other_debit_cards</td>\n",
              "      <td>118335</td>\n",
              "      <td>cat_1</td>\n",
              "      <td>IND_INR</td>\n",
              "      <td>other_pcs</td>\n",
              "      <td>200.0</td>\n",
              "      <td>2016-11-16 17:04:42+00:00</td>\n",
              "      <td>2</td>\n",
              "      <td>0</td>\n",
              "    </tr>\n",
              "  </tbody>\n",
              "</table>\n",
              "</div>\n",
              "      <button class=\"colab-df-convert\" onclick=\"convertToInteractive('df-471175ae-77ce-4b05-b7c2-d5624507a6c9')\"\n",
              "              title=\"Convert this dataframe to an interactive table.\"\n",
              "              style=\"display:none;\">\n",
              "        \n",
              "  <svg xmlns=\"http://www.w3.org/2000/svg\" height=\"24px\"viewBox=\"0 0 24 24\"\n",
              "       width=\"24px\">\n",
              "    <path d=\"M0 0h24v24H0V0z\" fill=\"none\"/>\n",
              "    <path d=\"M18.56 5.44l.94 2.06.94-2.06 2.06-.94-2.06-.94-.94-2.06-.94 2.06-2.06.94zm-11 1L8.5 8.5l.94-2.06 2.06-.94-2.06-.94L8.5 2.5l-.94 2.06-2.06.94zm10 10l.94 2.06.94-2.06 2.06-.94-2.06-.94-.94-2.06-.94 2.06-2.06.94z\"/><path d=\"M17.41 7.96l-1.37-1.37c-.4-.4-.92-.59-1.43-.59-.52 0-1.04.2-1.43.59L10.3 9.45l-7.72 7.72c-.78.78-.78 2.05 0 2.83L4 21.41c.39.39.9.59 1.41.59.51 0 1.02-.2 1.41-.59l7.78-7.78 2.81-2.81c.8-.78.8-2.07 0-2.86zM5.41 20L4 18.59l7.72-7.72 1.47 1.35L5.41 20z\"/>\n",
              "  </svg>\n",
              "      </button>\n",
              "      \n",
              "  <style>\n",
              "    .colab-df-container {\n",
              "      display:flex;\n",
              "      flex-wrap:wrap;\n",
              "      gap: 12px;\n",
              "    }\n",
              "\n",
              "    .colab-df-convert {\n",
              "      background-color: #E8F0FE;\n",
              "      border: none;\n",
              "      border-radius: 50%;\n",
              "      cursor: pointer;\n",
              "      display: none;\n",
              "      fill: #1967D2;\n",
              "      height: 32px;\n",
              "      padding: 0 0 0 0;\n",
              "      width: 32px;\n",
              "    }\n",
              "\n",
              "    .colab-df-convert:hover {\n",
              "      background-color: #E2EBFA;\n",
              "      box-shadow: 0px 1px 2px rgba(60, 64, 67, 0.3), 0px 1px 3px 1px rgba(60, 64, 67, 0.15);\n",
              "      fill: #174EA6;\n",
              "    }\n",
              "\n",
              "    [theme=dark] .colab-df-convert {\n",
              "      background-color: #3B4455;\n",
              "      fill: #D2E3FC;\n",
              "    }\n",
              "\n",
              "    [theme=dark] .colab-df-convert:hover {\n",
              "      background-color: #434B5C;\n",
              "      box-shadow: 0px 1px 3px 1px rgba(0, 0, 0, 0.15);\n",
              "      filter: drop-shadow(0px 1px 2px rgba(0, 0, 0, 0.3));\n",
              "      fill: #FFFFFF;\n",
              "    }\n",
              "  </style>\n",
              "\n",
              "      <script>\n",
              "        const buttonEl =\n",
              "          document.querySelector('#df-471175ae-77ce-4b05-b7c2-d5624507a6c9 button.colab-df-convert');\n",
              "        buttonEl.style.display =\n",
              "          google.colab.kernel.accessAllowed ? 'block' : 'none';\n",
              "\n",
              "        async function convertToInteractive(key) {\n",
              "          const element = document.querySelector('#df-471175ae-77ce-4b05-b7c2-d5624507a6c9');\n",
              "          const dataTable =\n",
              "            await google.colab.kernel.invokeFunction('convertToInteractive',\n",
              "                                                     [key], {});\n",
              "          if (!dataTable) return;\n",
              "\n",
              "          const docLinkHtml = 'Like what you see? Visit the ' +\n",
              "            '<a target=\"_blank\" href=https://colab.research.google.com/notebooks/data_table.ipynb>data table notebook</a>'\n",
              "            + ' to learn more about interactive tables.';\n",
              "          element.innerHTML = '';\n",
              "          dataTable['output_type'] = 'display_data';\n",
              "          await google.colab.output.renderOutput(dataTable, element);\n",
              "          const docLink = document.createElement('div');\n",
              "          docLink.innerHTML = docLinkHtml;\n",
              "          element.appendChild(docLink);\n",
              "        }\n",
              "      </script>\n",
              "    </div>\n",
              "  </div>\n",
              "  "
            ]
          },
          "metadata": {},
          "execution_count": 8
        }
      ]
    },
    {
      "cell_type": "code",
      "source": [
        "testdata.head()"
      ],
      "metadata": {
        "colab": {
          "base_uri": "https://localhost:8080/",
          "height": 357
        },
        "id": "fPuopCWLVma5",
        "outputId": "68f79d01-05e5-4c6e-cf0c-e5379782c287"
      },
      "execution_count": 9,
      "outputs": [
        {
          "output_type": "execute_result",
          "data": {
            "text/plain": [
              "   transaction_number   user_id            payment_method  partner_id  \\\n",
              "0     857050141038272   3802500   visa_master_debit_cards      118335   \n",
              "1       4400462872603    200704         e_wallet_payments       23667   \n",
              "2    1207915598569499  25150225    sbi_atm_cum_debit_card       47334   \n",
              "3    2009725616777536  21827584  visa_master_credit_cards       78890   \n",
              "4    2319205210274863    576081         e_wallet_payments       23667   \n",
              "\n",
              "  partner_category  country      device_type  money_transacted  \\\n",
              "0            cat_1  IND_INR        other_pcs             200.0   \n",
              "1            cat_2  IND_INR        other_pcs              20.0   \n",
              "2            cat_1  IND_INR  android_devices            -100.0   \n",
              "3            cat_2  IND_INR        other_pcs             200.0   \n",
              "4            cat_2  IND_INR        other_pcs             100.0   \n",
              "\n",
              "      transaction_initiation  partner_pricing_category  \n",
              "0  2016-12-28 14:44:37+00:00                         2  \n",
              "1  2016-12-14 17:49:48+00:00                         2  \n",
              "2  2017-01-21 10:18:11+00:00                         2  \n",
              "3  2017-01-16 13:25:10+00:00                         1  \n",
              "4  2017-02-09 12:47:28+00:00                         2  "
            ],
            "text/html": [
              "\n",
              "  <div id=\"df-45a1c149-9a1e-41d9-8c6b-3d6bb71bfd80\">\n",
              "    <div class=\"colab-df-container\">\n",
              "      <div>\n",
              "<style scoped>\n",
              "    .dataframe tbody tr th:only-of-type {\n",
              "        vertical-align: middle;\n",
              "    }\n",
              "\n",
              "    .dataframe tbody tr th {\n",
              "        vertical-align: top;\n",
              "    }\n",
              "\n",
              "    .dataframe thead th {\n",
              "        text-align: right;\n",
              "    }\n",
              "</style>\n",
              "<table border=\"1\" class=\"dataframe\">\n",
              "  <thead>\n",
              "    <tr style=\"text-align: right;\">\n",
              "      <th></th>\n",
              "      <th>transaction_number</th>\n",
              "      <th>user_id</th>\n",
              "      <th>payment_method</th>\n",
              "      <th>partner_id</th>\n",
              "      <th>partner_category</th>\n",
              "      <th>country</th>\n",
              "      <th>device_type</th>\n",
              "      <th>money_transacted</th>\n",
              "      <th>transaction_initiation</th>\n",
              "      <th>partner_pricing_category</th>\n",
              "    </tr>\n",
              "  </thead>\n",
              "  <tbody>\n",
              "    <tr>\n",
              "      <th>0</th>\n",
              "      <td>857050141038272</td>\n",
              "      <td>3802500</td>\n",
              "      <td>visa_master_debit_cards</td>\n",
              "      <td>118335</td>\n",
              "      <td>cat_1</td>\n",
              "      <td>IND_INR</td>\n",
              "      <td>other_pcs</td>\n",
              "      <td>200.0</td>\n",
              "      <td>2016-12-28 14:44:37+00:00</td>\n",
              "      <td>2</td>\n",
              "    </tr>\n",
              "    <tr>\n",
              "      <th>1</th>\n",
              "      <td>4400462872603</td>\n",
              "      <td>200704</td>\n",
              "      <td>e_wallet_payments</td>\n",
              "      <td>23667</td>\n",
              "      <td>cat_2</td>\n",
              "      <td>IND_INR</td>\n",
              "      <td>other_pcs</td>\n",
              "      <td>20.0</td>\n",
              "      <td>2016-12-14 17:49:48+00:00</td>\n",
              "      <td>2</td>\n",
              "    </tr>\n",
              "    <tr>\n",
              "      <th>2</th>\n",
              "      <td>1207915598569499</td>\n",
              "      <td>25150225</td>\n",
              "      <td>sbi_atm_cum_debit_card</td>\n",
              "      <td>47334</td>\n",
              "      <td>cat_1</td>\n",
              "      <td>IND_INR</td>\n",
              "      <td>android_devices</td>\n",
              "      <td>-100.0</td>\n",
              "      <td>2017-01-21 10:18:11+00:00</td>\n",
              "      <td>2</td>\n",
              "    </tr>\n",
              "    <tr>\n",
              "      <th>3</th>\n",
              "      <td>2009725616777536</td>\n",
              "      <td>21827584</td>\n",
              "      <td>visa_master_credit_cards</td>\n",
              "      <td>78890</td>\n",
              "      <td>cat_2</td>\n",
              "      <td>IND_INR</td>\n",
              "      <td>other_pcs</td>\n",
              "      <td>200.0</td>\n",
              "      <td>2017-01-16 13:25:10+00:00</td>\n",
              "      <td>1</td>\n",
              "    </tr>\n",
              "    <tr>\n",
              "      <th>4</th>\n",
              "      <td>2319205210274863</td>\n",
              "      <td>576081</td>\n",
              "      <td>e_wallet_payments</td>\n",
              "      <td>23667</td>\n",
              "      <td>cat_2</td>\n",
              "      <td>IND_INR</td>\n",
              "      <td>other_pcs</td>\n",
              "      <td>100.0</td>\n",
              "      <td>2017-02-09 12:47:28+00:00</td>\n",
              "      <td>2</td>\n",
              "    </tr>\n",
              "  </tbody>\n",
              "</table>\n",
              "</div>\n",
              "      <button class=\"colab-df-convert\" onclick=\"convertToInteractive('df-45a1c149-9a1e-41d9-8c6b-3d6bb71bfd80')\"\n",
              "              title=\"Convert this dataframe to an interactive table.\"\n",
              "              style=\"display:none;\">\n",
              "        \n",
              "  <svg xmlns=\"http://www.w3.org/2000/svg\" height=\"24px\"viewBox=\"0 0 24 24\"\n",
              "       width=\"24px\">\n",
              "    <path d=\"M0 0h24v24H0V0z\" fill=\"none\"/>\n",
              "    <path d=\"M18.56 5.44l.94 2.06.94-2.06 2.06-.94-2.06-.94-.94-2.06-.94 2.06-2.06.94zm-11 1L8.5 8.5l.94-2.06 2.06-.94-2.06-.94L8.5 2.5l-.94 2.06-2.06.94zm10 10l.94 2.06.94-2.06 2.06-.94-2.06-.94-.94-2.06-.94 2.06-2.06.94z\"/><path d=\"M17.41 7.96l-1.37-1.37c-.4-.4-.92-.59-1.43-.59-.52 0-1.04.2-1.43.59L10.3 9.45l-7.72 7.72c-.78.78-.78 2.05 0 2.83L4 21.41c.39.39.9.59 1.41.59.51 0 1.02-.2 1.41-.59l7.78-7.78 2.81-2.81c.8-.78.8-2.07 0-2.86zM5.41 20L4 18.59l7.72-7.72 1.47 1.35L5.41 20z\"/>\n",
              "  </svg>\n",
              "      </button>\n",
              "      \n",
              "  <style>\n",
              "    .colab-df-container {\n",
              "      display:flex;\n",
              "      flex-wrap:wrap;\n",
              "      gap: 12px;\n",
              "    }\n",
              "\n",
              "    .colab-df-convert {\n",
              "      background-color: #E8F0FE;\n",
              "      border: none;\n",
              "      border-radius: 50%;\n",
              "      cursor: pointer;\n",
              "      display: none;\n",
              "      fill: #1967D2;\n",
              "      height: 32px;\n",
              "      padding: 0 0 0 0;\n",
              "      width: 32px;\n",
              "    }\n",
              "\n",
              "    .colab-df-convert:hover {\n",
              "      background-color: #E2EBFA;\n",
              "      box-shadow: 0px 1px 2px rgba(60, 64, 67, 0.3), 0px 1px 3px 1px rgba(60, 64, 67, 0.15);\n",
              "      fill: #174EA6;\n",
              "    }\n",
              "\n",
              "    [theme=dark] .colab-df-convert {\n",
              "      background-color: #3B4455;\n",
              "      fill: #D2E3FC;\n",
              "    }\n",
              "\n",
              "    [theme=dark] .colab-df-convert:hover {\n",
              "      background-color: #434B5C;\n",
              "      box-shadow: 0px 1px 3px 1px rgba(0, 0, 0, 0.15);\n",
              "      filter: drop-shadow(0px 1px 2px rgba(0, 0, 0, 0.3));\n",
              "      fill: #FFFFFF;\n",
              "    }\n",
              "  </style>\n",
              "\n",
              "      <script>\n",
              "        const buttonEl =\n",
              "          document.querySelector('#df-45a1c149-9a1e-41d9-8c6b-3d6bb71bfd80 button.colab-df-convert');\n",
              "        buttonEl.style.display =\n",
              "          google.colab.kernel.accessAllowed ? 'block' : 'none';\n",
              "\n",
              "        async function convertToInteractive(key) {\n",
              "          const element = document.querySelector('#df-45a1c149-9a1e-41d9-8c6b-3d6bb71bfd80');\n",
              "          const dataTable =\n",
              "            await google.colab.kernel.invokeFunction('convertToInteractive',\n",
              "                                                     [key], {});\n",
              "          if (!dataTable) return;\n",
              "\n",
              "          const docLinkHtml = 'Like what you see? Visit the ' +\n",
              "            '<a target=\"_blank\" href=https://colab.research.google.com/notebooks/data_table.ipynb>data table notebook</a>'\n",
              "            + ' to learn more about interactive tables.';\n",
              "          element.innerHTML = '';\n",
              "          dataTable['output_type'] = 'display_data';\n",
              "          await google.colab.output.renderOutput(dataTable, element);\n",
              "          const docLink = document.createElement('div');\n",
              "          docLink.innerHTML = docLinkHtml;\n",
              "          element.appendChild(docLink);\n",
              "        }\n",
              "      </script>\n",
              "    </div>\n",
              "  </div>\n",
              "  "
            ]
          },
          "metadata": {},
          "execution_count": 9
        }
      ]
    },
    {
      "cell_type": "code",
      "source": [
        "data.tail()"
      ],
      "metadata": {
        "colab": {
          "base_uri": "https://localhost:8080/",
          "height": 357
        },
        "id": "SW_g1J9g4fhk",
        "outputId": "3bdc78a8-8914-4e09-842a-dfa524543e92"
      },
      "execution_count": 10,
      "outputs": [
        {
          "output_type": "execute_result",
          "data": {
            "text/plain": [
              "       transaction_number   user_id           payment_method  partner_id  \\\n",
              "76524     179759462245453  19686969   sbi_atm_cum_debit_card       47334   \n",
              "76525    2693567760244353  11662225  visa_master_debit_cards      118335   \n",
              "76526     119750257089000    374544   sbi_atm_cum_debit_card       47334   \n",
              "76527    1949798765017089   1687401   sbi_atm_cum_debit_card       47334   \n",
              "76528    1051344513778987   6754801   sbi_atm_cum_debit_card       47334   \n",
              "\n",
              "      partner_category  country      device_type  money_transacted  \\\n",
              "76524            cat_1  IND_INR  android_devices            -100.0   \n",
              "76525            cat_1  IND_INR        other_pcs             200.0   \n",
              "76526            cat_1  IND_INR  android_devices              -3.5   \n",
              "76527            cat_1  IND_INR  android_devices             -20.0   \n",
              "76528            cat_1  IND_INR  android_devices            -100.0   \n",
              "\n",
              "          transaction_initiation  partner_pricing_category  is_fraud  \n",
              "76524  2016-11-30 13:40:45+00:00                         2         0  \n",
              "76525  2017-01-08 08:35:31+00:00                         2         0  \n",
              "76526  2016-12-26 21:47:08+00:00                         2         0  \n",
              "76527  2016-12-11 13:44:06+00:00                         2         0  \n",
              "76528  2017-01-11 19:08:18+00:00                         2         0  "
            ],
            "text/html": [
              "\n",
              "  <div id=\"df-cad9d4c4-250e-4e47-be47-461007e33216\">\n",
              "    <div class=\"colab-df-container\">\n",
              "      <div>\n",
              "<style scoped>\n",
              "    .dataframe tbody tr th:only-of-type {\n",
              "        vertical-align: middle;\n",
              "    }\n",
              "\n",
              "    .dataframe tbody tr th {\n",
              "        vertical-align: top;\n",
              "    }\n",
              "\n",
              "    .dataframe thead th {\n",
              "        text-align: right;\n",
              "    }\n",
              "</style>\n",
              "<table border=\"1\" class=\"dataframe\">\n",
              "  <thead>\n",
              "    <tr style=\"text-align: right;\">\n",
              "      <th></th>\n",
              "      <th>transaction_number</th>\n",
              "      <th>user_id</th>\n",
              "      <th>payment_method</th>\n",
              "      <th>partner_id</th>\n",
              "      <th>partner_category</th>\n",
              "      <th>country</th>\n",
              "      <th>device_type</th>\n",
              "      <th>money_transacted</th>\n",
              "      <th>transaction_initiation</th>\n",
              "      <th>partner_pricing_category</th>\n",
              "      <th>is_fraud</th>\n",
              "    </tr>\n",
              "  </thead>\n",
              "  <tbody>\n",
              "    <tr>\n",
              "      <th>76524</th>\n",
              "      <td>179759462245453</td>\n",
              "      <td>19686969</td>\n",
              "      <td>sbi_atm_cum_debit_card</td>\n",
              "      <td>47334</td>\n",
              "      <td>cat_1</td>\n",
              "      <td>IND_INR</td>\n",
              "      <td>android_devices</td>\n",
              "      <td>-100.0</td>\n",
              "      <td>2016-11-30 13:40:45+00:00</td>\n",
              "      <td>2</td>\n",
              "      <td>0</td>\n",
              "    </tr>\n",
              "    <tr>\n",
              "      <th>76525</th>\n",
              "      <td>2693567760244353</td>\n",
              "      <td>11662225</td>\n",
              "      <td>visa_master_debit_cards</td>\n",
              "      <td>118335</td>\n",
              "      <td>cat_1</td>\n",
              "      <td>IND_INR</td>\n",
              "      <td>other_pcs</td>\n",
              "      <td>200.0</td>\n",
              "      <td>2017-01-08 08:35:31+00:00</td>\n",
              "      <td>2</td>\n",
              "      <td>0</td>\n",
              "    </tr>\n",
              "    <tr>\n",
              "      <th>76526</th>\n",
              "      <td>119750257089000</td>\n",
              "      <td>374544</td>\n",
              "      <td>sbi_atm_cum_debit_card</td>\n",
              "      <td>47334</td>\n",
              "      <td>cat_1</td>\n",
              "      <td>IND_INR</td>\n",
              "      <td>android_devices</td>\n",
              "      <td>-3.5</td>\n",
              "      <td>2016-12-26 21:47:08+00:00</td>\n",
              "      <td>2</td>\n",
              "      <td>0</td>\n",
              "    </tr>\n",
              "    <tr>\n",
              "      <th>76527</th>\n",
              "      <td>1949798765017089</td>\n",
              "      <td>1687401</td>\n",
              "      <td>sbi_atm_cum_debit_card</td>\n",
              "      <td>47334</td>\n",
              "      <td>cat_1</td>\n",
              "      <td>IND_INR</td>\n",
              "      <td>android_devices</td>\n",
              "      <td>-20.0</td>\n",
              "      <td>2016-12-11 13:44:06+00:00</td>\n",
              "      <td>2</td>\n",
              "      <td>0</td>\n",
              "    </tr>\n",
              "    <tr>\n",
              "      <th>76528</th>\n",
              "      <td>1051344513778987</td>\n",
              "      <td>6754801</td>\n",
              "      <td>sbi_atm_cum_debit_card</td>\n",
              "      <td>47334</td>\n",
              "      <td>cat_1</td>\n",
              "      <td>IND_INR</td>\n",
              "      <td>android_devices</td>\n",
              "      <td>-100.0</td>\n",
              "      <td>2017-01-11 19:08:18+00:00</td>\n",
              "      <td>2</td>\n",
              "      <td>0</td>\n",
              "    </tr>\n",
              "  </tbody>\n",
              "</table>\n",
              "</div>\n",
              "      <button class=\"colab-df-convert\" onclick=\"convertToInteractive('df-cad9d4c4-250e-4e47-be47-461007e33216')\"\n",
              "              title=\"Convert this dataframe to an interactive table.\"\n",
              "              style=\"display:none;\">\n",
              "        \n",
              "  <svg xmlns=\"http://www.w3.org/2000/svg\" height=\"24px\"viewBox=\"0 0 24 24\"\n",
              "       width=\"24px\">\n",
              "    <path d=\"M0 0h24v24H0V0z\" fill=\"none\"/>\n",
              "    <path d=\"M18.56 5.44l.94 2.06.94-2.06 2.06-.94-2.06-.94-.94-2.06-.94 2.06-2.06.94zm-11 1L8.5 8.5l.94-2.06 2.06-.94-2.06-.94L8.5 2.5l-.94 2.06-2.06.94zm10 10l.94 2.06.94-2.06 2.06-.94-2.06-.94-.94-2.06-.94 2.06-2.06.94z\"/><path d=\"M17.41 7.96l-1.37-1.37c-.4-.4-.92-.59-1.43-.59-.52 0-1.04.2-1.43.59L10.3 9.45l-7.72 7.72c-.78.78-.78 2.05 0 2.83L4 21.41c.39.39.9.59 1.41.59.51 0 1.02-.2 1.41-.59l7.78-7.78 2.81-2.81c.8-.78.8-2.07 0-2.86zM5.41 20L4 18.59l7.72-7.72 1.47 1.35L5.41 20z\"/>\n",
              "  </svg>\n",
              "      </button>\n",
              "      \n",
              "  <style>\n",
              "    .colab-df-container {\n",
              "      display:flex;\n",
              "      flex-wrap:wrap;\n",
              "      gap: 12px;\n",
              "    }\n",
              "\n",
              "    .colab-df-convert {\n",
              "      background-color: #E8F0FE;\n",
              "      border: none;\n",
              "      border-radius: 50%;\n",
              "      cursor: pointer;\n",
              "      display: none;\n",
              "      fill: #1967D2;\n",
              "      height: 32px;\n",
              "      padding: 0 0 0 0;\n",
              "      width: 32px;\n",
              "    }\n",
              "\n",
              "    .colab-df-convert:hover {\n",
              "      background-color: #E2EBFA;\n",
              "      box-shadow: 0px 1px 2px rgba(60, 64, 67, 0.3), 0px 1px 3px 1px rgba(60, 64, 67, 0.15);\n",
              "      fill: #174EA6;\n",
              "    }\n",
              "\n",
              "    [theme=dark] .colab-df-convert {\n",
              "      background-color: #3B4455;\n",
              "      fill: #D2E3FC;\n",
              "    }\n",
              "\n",
              "    [theme=dark] .colab-df-convert:hover {\n",
              "      background-color: #434B5C;\n",
              "      box-shadow: 0px 1px 3px 1px rgba(0, 0, 0, 0.15);\n",
              "      filter: drop-shadow(0px 1px 2px rgba(0, 0, 0, 0.3));\n",
              "      fill: #FFFFFF;\n",
              "    }\n",
              "  </style>\n",
              "\n",
              "      <script>\n",
              "        const buttonEl =\n",
              "          document.querySelector('#df-cad9d4c4-250e-4e47-be47-461007e33216 button.colab-df-convert');\n",
              "        buttonEl.style.display =\n",
              "          google.colab.kernel.accessAllowed ? 'block' : 'none';\n",
              "\n",
              "        async function convertToInteractive(key) {\n",
              "          const element = document.querySelector('#df-cad9d4c4-250e-4e47-be47-461007e33216');\n",
              "          const dataTable =\n",
              "            await google.colab.kernel.invokeFunction('convertToInteractive',\n",
              "                                                     [key], {});\n",
              "          if (!dataTable) return;\n",
              "\n",
              "          const docLinkHtml = 'Like what you see? Visit the ' +\n",
              "            '<a target=\"_blank\" href=https://colab.research.google.com/notebooks/data_table.ipynb>data table notebook</a>'\n",
              "            + ' to learn more about interactive tables.';\n",
              "          element.innerHTML = '';\n",
              "          dataTable['output_type'] = 'display_data';\n",
              "          await google.colab.output.renderOutput(dataTable, element);\n",
              "          const docLink = document.createElement('div');\n",
              "          docLink.innerHTML = docLinkHtml;\n",
              "          element.appendChild(docLink);\n",
              "        }\n",
              "      </script>\n",
              "    </div>\n",
              "  </div>\n",
              "  "
            ]
          },
          "metadata": {},
          "execution_count": 10
        }
      ]
    },
    {
      "cell_type": "code",
      "source": [
        "testdata.tail()"
      ],
      "metadata": {
        "colab": {
          "base_uri": "https://localhost:8080/",
          "height": 357
        },
        "id": "vySK-nJ_VtAd",
        "outputId": "7a3f7e62-3d9e-4fa7-fb40-b7ac8e78c460"
      },
      "execution_count": 11,
      "outputs": [
        {
          "output_type": "execute_result",
          "data": {
            "text/plain": [
              "       transaction_number   user_id           payment_method  partner_id  \\\n",
              "19128       5332775378111  13235044        e_wallet_payments       23667   \n",
              "19129     939262915465237  12257001        e_wallet_payments       78890   \n",
              "19130      18324574916544   5958481  visa_master_debit_cards       23667   \n",
              "19131     893473728055875  53919649   sbi_atm_cum_debit_card       78890   \n",
              "19132      84390778936647  14500864        e_wallet_payments       78890   \n",
              "\n",
              "      partner_category  country      device_type  money_transacted  \\\n",
              "19128            cat_2  IND_INR        other_pcs              20.0   \n",
              "19129            cat_2  IND_INR        other_pcs              30.0   \n",
              "19130            cat_2  IND_INR        other_pcs              20.0   \n",
              "19131            cat_2  IND_INR  android_devices            -500.0   \n",
              "19132            cat_2  IND_INR        other_pcs              40.0   \n",
              "\n",
              "          transaction_initiation  partner_pricing_category  \n",
              "19128  2017-01-01 13:02:16+00:00                         2  \n",
              "19129  2016-12-26 19:41:23+00:00                         2  \n",
              "19130  2016-12-24 04:29:06+00:00                         4  \n",
              "19131  2016-12-04 15:38:47+00:00                         4  \n",
              "19132  2017-01-12 21:24:24+00:00                         2  "
            ],
            "text/html": [
              "\n",
              "  <div id=\"df-71aee01e-760b-42fe-aa5b-bc2e5478b7fb\">\n",
              "    <div class=\"colab-df-container\">\n",
              "      <div>\n",
              "<style scoped>\n",
              "    .dataframe tbody tr th:only-of-type {\n",
              "        vertical-align: middle;\n",
              "    }\n",
              "\n",
              "    .dataframe tbody tr th {\n",
              "        vertical-align: top;\n",
              "    }\n",
              "\n",
              "    .dataframe thead th {\n",
              "        text-align: right;\n",
              "    }\n",
              "</style>\n",
              "<table border=\"1\" class=\"dataframe\">\n",
              "  <thead>\n",
              "    <tr style=\"text-align: right;\">\n",
              "      <th></th>\n",
              "      <th>transaction_number</th>\n",
              "      <th>user_id</th>\n",
              "      <th>payment_method</th>\n",
              "      <th>partner_id</th>\n",
              "      <th>partner_category</th>\n",
              "      <th>country</th>\n",
              "      <th>device_type</th>\n",
              "      <th>money_transacted</th>\n",
              "      <th>transaction_initiation</th>\n",
              "      <th>partner_pricing_category</th>\n",
              "    </tr>\n",
              "  </thead>\n",
              "  <tbody>\n",
              "    <tr>\n",
              "      <th>19128</th>\n",
              "      <td>5332775378111</td>\n",
              "      <td>13235044</td>\n",
              "      <td>e_wallet_payments</td>\n",
              "      <td>23667</td>\n",
              "      <td>cat_2</td>\n",
              "      <td>IND_INR</td>\n",
              "      <td>other_pcs</td>\n",
              "      <td>20.0</td>\n",
              "      <td>2017-01-01 13:02:16+00:00</td>\n",
              "      <td>2</td>\n",
              "    </tr>\n",
              "    <tr>\n",
              "      <th>19129</th>\n",
              "      <td>939262915465237</td>\n",
              "      <td>12257001</td>\n",
              "      <td>e_wallet_payments</td>\n",
              "      <td>78890</td>\n",
              "      <td>cat_2</td>\n",
              "      <td>IND_INR</td>\n",
              "      <td>other_pcs</td>\n",
              "      <td>30.0</td>\n",
              "      <td>2016-12-26 19:41:23+00:00</td>\n",
              "      <td>2</td>\n",
              "    </tr>\n",
              "    <tr>\n",
              "      <th>19130</th>\n",
              "      <td>18324574916544</td>\n",
              "      <td>5958481</td>\n",
              "      <td>visa_master_debit_cards</td>\n",
              "      <td>23667</td>\n",
              "      <td>cat_2</td>\n",
              "      <td>IND_INR</td>\n",
              "      <td>other_pcs</td>\n",
              "      <td>20.0</td>\n",
              "      <td>2016-12-24 04:29:06+00:00</td>\n",
              "      <td>4</td>\n",
              "    </tr>\n",
              "    <tr>\n",
              "      <th>19131</th>\n",
              "      <td>893473728055875</td>\n",
              "      <td>53919649</td>\n",
              "      <td>sbi_atm_cum_debit_card</td>\n",
              "      <td>78890</td>\n",
              "      <td>cat_2</td>\n",
              "      <td>IND_INR</td>\n",
              "      <td>android_devices</td>\n",
              "      <td>-500.0</td>\n",
              "      <td>2016-12-04 15:38:47+00:00</td>\n",
              "      <td>4</td>\n",
              "    </tr>\n",
              "    <tr>\n",
              "      <th>19132</th>\n",
              "      <td>84390778936647</td>\n",
              "      <td>14500864</td>\n",
              "      <td>e_wallet_payments</td>\n",
              "      <td>78890</td>\n",
              "      <td>cat_2</td>\n",
              "      <td>IND_INR</td>\n",
              "      <td>other_pcs</td>\n",
              "      <td>40.0</td>\n",
              "      <td>2017-01-12 21:24:24+00:00</td>\n",
              "      <td>2</td>\n",
              "    </tr>\n",
              "  </tbody>\n",
              "</table>\n",
              "</div>\n",
              "      <button class=\"colab-df-convert\" onclick=\"convertToInteractive('df-71aee01e-760b-42fe-aa5b-bc2e5478b7fb')\"\n",
              "              title=\"Convert this dataframe to an interactive table.\"\n",
              "              style=\"display:none;\">\n",
              "        \n",
              "  <svg xmlns=\"http://www.w3.org/2000/svg\" height=\"24px\"viewBox=\"0 0 24 24\"\n",
              "       width=\"24px\">\n",
              "    <path d=\"M0 0h24v24H0V0z\" fill=\"none\"/>\n",
              "    <path d=\"M18.56 5.44l.94 2.06.94-2.06 2.06-.94-2.06-.94-.94-2.06-.94 2.06-2.06.94zm-11 1L8.5 8.5l.94-2.06 2.06-.94-2.06-.94L8.5 2.5l-.94 2.06-2.06.94zm10 10l.94 2.06.94-2.06 2.06-.94-2.06-.94-.94-2.06-.94 2.06-2.06.94z\"/><path d=\"M17.41 7.96l-1.37-1.37c-.4-.4-.92-.59-1.43-.59-.52 0-1.04.2-1.43.59L10.3 9.45l-7.72 7.72c-.78.78-.78 2.05 0 2.83L4 21.41c.39.39.9.59 1.41.59.51 0 1.02-.2 1.41-.59l7.78-7.78 2.81-2.81c.8-.78.8-2.07 0-2.86zM5.41 20L4 18.59l7.72-7.72 1.47 1.35L5.41 20z\"/>\n",
              "  </svg>\n",
              "      </button>\n",
              "      \n",
              "  <style>\n",
              "    .colab-df-container {\n",
              "      display:flex;\n",
              "      flex-wrap:wrap;\n",
              "      gap: 12px;\n",
              "    }\n",
              "\n",
              "    .colab-df-convert {\n",
              "      background-color: #E8F0FE;\n",
              "      border: none;\n",
              "      border-radius: 50%;\n",
              "      cursor: pointer;\n",
              "      display: none;\n",
              "      fill: #1967D2;\n",
              "      height: 32px;\n",
              "      padding: 0 0 0 0;\n",
              "      width: 32px;\n",
              "    }\n",
              "\n",
              "    .colab-df-convert:hover {\n",
              "      background-color: #E2EBFA;\n",
              "      box-shadow: 0px 1px 2px rgba(60, 64, 67, 0.3), 0px 1px 3px 1px rgba(60, 64, 67, 0.15);\n",
              "      fill: #174EA6;\n",
              "    }\n",
              "\n",
              "    [theme=dark] .colab-df-convert {\n",
              "      background-color: #3B4455;\n",
              "      fill: #D2E3FC;\n",
              "    }\n",
              "\n",
              "    [theme=dark] .colab-df-convert:hover {\n",
              "      background-color: #434B5C;\n",
              "      box-shadow: 0px 1px 3px 1px rgba(0, 0, 0, 0.15);\n",
              "      filter: drop-shadow(0px 1px 2px rgba(0, 0, 0, 0.3));\n",
              "      fill: #FFFFFF;\n",
              "    }\n",
              "  </style>\n",
              "\n",
              "      <script>\n",
              "        const buttonEl =\n",
              "          document.querySelector('#df-71aee01e-760b-42fe-aa5b-bc2e5478b7fb button.colab-df-convert');\n",
              "        buttonEl.style.display =\n",
              "          google.colab.kernel.accessAllowed ? 'block' : 'none';\n",
              "\n",
              "        async function convertToInteractive(key) {\n",
              "          const element = document.querySelector('#df-71aee01e-760b-42fe-aa5b-bc2e5478b7fb');\n",
              "          const dataTable =\n",
              "            await google.colab.kernel.invokeFunction('convertToInteractive',\n",
              "                                                     [key], {});\n",
              "          if (!dataTable) return;\n",
              "\n",
              "          const docLinkHtml = 'Like what you see? Visit the ' +\n",
              "            '<a target=\"_blank\" href=https://colab.research.google.com/notebooks/data_table.ipynb>data table notebook</a>'\n",
              "            + ' to learn more about interactive tables.';\n",
              "          element.innerHTML = '';\n",
              "          dataTable['output_type'] = 'display_data';\n",
              "          await google.colab.output.renderOutput(dataTable, element);\n",
              "          const docLink = document.createElement('div');\n",
              "          docLink.innerHTML = docLinkHtml;\n",
              "          element.appendChild(docLink);\n",
              "        }\n",
              "      </script>\n",
              "    </div>\n",
              "  </div>\n",
              "  "
            ]
          },
          "metadata": {},
          "execution_count": 11
        }
      ]
    },
    {
      "cell_type": "code",
      "source": [
        "data.describe(include='all')"
      ],
      "metadata": {
        "colab": {
          "base_uri": "https://localhost:8080/",
          "height": 476
        },
        "id": "-ZIxd6mt4lrZ",
        "outputId": "dd26ddf3-77cf-48f6-8425-183f8454f2e8"
      },
      "execution_count": 12,
      "outputs": [
        {
          "output_type": "execute_result",
          "data": {
            "text/plain": [
              "        transaction_number       user_id          payment_method  \\\n",
              "count         7.652900e+04  7.652900e+04                   76529   \n",
              "unique                 NaN           NaN                       6   \n",
              "top                    NaN           NaN  sbi_atm_cum_debit_card   \n",
              "freq                   NaN           NaN                   30538   \n",
              "mean          6.940200e+14  1.247483e+07                     NaN   \n",
              "std           7.867885e+14  1.205878e+07                     NaN   \n",
              "min           8.000000e+00  1.000000e+00                     NaN   \n",
              "25%           4.387866e+13  3.515625e+06                     NaN   \n",
              "50%           3.452540e+14  9.753129e+06                     NaN   \n",
              "75%           1.173440e+15  1.788444e+07                     NaN   \n",
              "max           2.784238e+15  5.592048e+07                     NaN   \n",
              "\n",
              "           partner_id partner_category  country device_type  money_transacted  \\\n",
              "count    76529.000000            76529    76529       76529      76529.000000   \n",
              "unique            NaN                9        1           4               NaN   \n",
              "top               NaN            cat_1  IND_INR   other_pcs               NaN   \n",
              "freq              NaN            36306    76529       45560               NaN   \n",
              "mean     58497.189105              NaN      NaN         NaN        132.724348   \n",
              "std      36740.216787              NaN      NaN         NaN       2350.110900   \n",
              "min       7889.000000              NaN      NaN         NaN     -20000.000000   \n",
              "25%      23667.000000              NaN      NaN         NaN         -1.000000   \n",
              "50%      47334.000000              NaN      NaN         NaN         20.000000   \n",
              "75%      78890.000000              NaN      NaN         NaN         52.000000   \n",
              "max     213003.000000              NaN      NaN         NaN     197217.760000   \n",
              "\n",
              "           transaction_initiation  partner_pricing_category      is_fraud  \n",
              "count                       76529              76529.000000  76529.000000  \n",
              "unique                      75811                       NaN           NaN  \n",
              "top     2016-12-24 16:30:13+00:00                       NaN           NaN  \n",
              "freq                           12                       NaN           NaN  \n",
              "mean                          NaN                  2.255707      0.002012  \n",
              "std                           NaN                  0.732174      0.044814  \n",
              "min                           NaN                  0.000000      0.000000  \n",
              "25%                           NaN                  2.000000      0.000000  \n",
              "50%                           NaN                  2.000000      0.000000  \n",
              "75%                           NaN                  2.000000      0.000000  \n",
              "max                           NaN                  4.000000      1.000000  "
            ],
            "text/html": [
              "\n",
              "  <div id=\"df-8c42ed10-ffc8-4b29-90e8-354b23f1a05d\">\n",
              "    <div class=\"colab-df-container\">\n",
              "      <div>\n",
              "<style scoped>\n",
              "    .dataframe tbody tr th:only-of-type {\n",
              "        vertical-align: middle;\n",
              "    }\n",
              "\n",
              "    .dataframe tbody tr th {\n",
              "        vertical-align: top;\n",
              "    }\n",
              "\n",
              "    .dataframe thead th {\n",
              "        text-align: right;\n",
              "    }\n",
              "</style>\n",
              "<table border=\"1\" class=\"dataframe\">\n",
              "  <thead>\n",
              "    <tr style=\"text-align: right;\">\n",
              "      <th></th>\n",
              "      <th>transaction_number</th>\n",
              "      <th>user_id</th>\n",
              "      <th>payment_method</th>\n",
              "      <th>partner_id</th>\n",
              "      <th>partner_category</th>\n",
              "      <th>country</th>\n",
              "      <th>device_type</th>\n",
              "      <th>money_transacted</th>\n",
              "      <th>transaction_initiation</th>\n",
              "      <th>partner_pricing_category</th>\n",
              "      <th>is_fraud</th>\n",
              "    </tr>\n",
              "  </thead>\n",
              "  <tbody>\n",
              "    <tr>\n",
              "      <th>count</th>\n",
              "      <td>7.652900e+04</td>\n",
              "      <td>7.652900e+04</td>\n",
              "      <td>76529</td>\n",
              "      <td>76529.000000</td>\n",
              "      <td>76529</td>\n",
              "      <td>76529</td>\n",
              "      <td>76529</td>\n",
              "      <td>76529.000000</td>\n",
              "      <td>76529</td>\n",
              "      <td>76529.000000</td>\n",
              "      <td>76529.000000</td>\n",
              "    </tr>\n",
              "    <tr>\n",
              "      <th>unique</th>\n",
              "      <td>NaN</td>\n",
              "      <td>NaN</td>\n",
              "      <td>6</td>\n",
              "      <td>NaN</td>\n",
              "      <td>9</td>\n",
              "      <td>1</td>\n",
              "      <td>4</td>\n",
              "      <td>NaN</td>\n",
              "      <td>75811</td>\n",
              "      <td>NaN</td>\n",
              "      <td>NaN</td>\n",
              "    </tr>\n",
              "    <tr>\n",
              "      <th>top</th>\n",
              "      <td>NaN</td>\n",
              "      <td>NaN</td>\n",
              "      <td>sbi_atm_cum_debit_card</td>\n",
              "      <td>NaN</td>\n",
              "      <td>cat_1</td>\n",
              "      <td>IND_INR</td>\n",
              "      <td>other_pcs</td>\n",
              "      <td>NaN</td>\n",
              "      <td>2016-12-24 16:30:13+00:00</td>\n",
              "      <td>NaN</td>\n",
              "      <td>NaN</td>\n",
              "    </tr>\n",
              "    <tr>\n",
              "      <th>freq</th>\n",
              "      <td>NaN</td>\n",
              "      <td>NaN</td>\n",
              "      <td>30538</td>\n",
              "      <td>NaN</td>\n",
              "      <td>36306</td>\n",
              "      <td>76529</td>\n",
              "      <td>45560</td>\n",
              "      <td>NaN</td>\n",
              "      <td>12</td>\n",
              "      <td>NaN</td>\n",
              "      <td>NaN</td>\n",
              "    </tr>\n",
              "    <tr>\n",
              "      <th>mean</th>\n",
              "      <td>6.940200e+14</td>\n",
              "      <td>1.247483e+07</td>\n",
              "      <td>NaN</td>\n",
              "      <td>58497.189105</td>\n",
              "      <td>NaN</td>\n",
              "      <td>NaN</td>\n",
              "      <td>NaN</td>\n",
              "      <td>132.724348</td>\n",
              "      <td>NaN</td>\n",
              "      <td>2.255707</td>\n",
              "      <td>0.002012</td>\n",
              "    </tr>\n",
              "    <tr>\n",
              "      <th>std</th>\n",
              "      <td>7.867885e+14</td>\n",
              "      <td>1.205878e+07</td>\n",
              "      <td>NaN</td>\n",
              "      <td>36740.216787</td>\n",
              "      <td>NaN</td>\n",
              "      <td>NaN</td>\n",
              "      <td>NaN</td>\n",
              "      <td>2350.110900</td>\n",
              "      <td>NaN</td>\n",
              "      <td>0.732174</td>\n",
              "      <td>0.044814</td>\n",
              "    </tr>\n",
              "    <tr>\n",
              "      <th>min</th>\n",
              "      <td>8.000000e+00</td>\n",
              "      <td>1.000000e+00</td>\n",
              "      <td>NaN</td>\n",
              "      <td>7889.000000</td>\n",
              "      <td>NaN</td>\n",
              "      <td>NaN</td>\n",
              "      <td>NaN</td>\n",
              "      <td>-20000.000000</td>\n",
              "      <td>NaN</td>\n",
              "      <td>0.000000</td>\n",
              "      <td>0.000000</td>\n",
              "    </tr>\n",
              "    <tr>\n",
              "      <th>25%</th>\n",
              "      <td>4.387866e+13</td>\n",
              "      <td>3.515625e+06</td>\n",
              "      <td>NaN</td>\n",
              "      <td>23667.000000</td>\n",
              "      <td>NaN</td>\n",
              "      <td>NaN</td>\n",
              "      <td>NaN</td>\n",
              "      <td>-1.000000</td>\n",
              "      <td>NaN</td>\n",
              "      <td>2.000000</td>\n",
              "      <td>0.000000</td>\n",
              "    </tr>\n",
              "    <tr>\n",
              "      <th>50%</th>\n",
              "      <td>3.452540e+14</td>\n",
              "      <td>9.753129e+06</td>\n",
              "      <td>NaN</td>\n",
              "      <td>47334.000000</td>\n",
              "      <td>NaN</td>\n",
              "      <td>NaN</td>\n",
              "      <td>NaN</td>\n",
              "      <td>20.000000</td>\n",
              "      <td>NaN</td>\n",
              "      <td>2.000000</td>\n",
              "      <td>0.000000</td>\n",
              "    </tr>\n",
              "    <tr>\n",
              "      <th>75%</th>\n",
              "      <td>1.173440e+15</td>\n",
              "      <td>1.788444e+07</td>\n",
              "      <td>NaN</td>\n",
              "      <td>78890.000000</td>\n",
              "      <td>NaN</td>\n",
              "      <td>NaN</td>\n",
              "      <td>NaN</td>\n",
              "      <td>52.000000</td>\n",
              "      <td>NaN</td>\n",
              "      <td>2.000000</td>\n",
              "      <td>0.000000</td>\n",
              "    </tr>\n",
              "    <tr>\n",
              "      <th>max</th>\n",
              "      <td>2.784238e+15</td>\n",
              "      <td>5.592048e+07</td>\n",
              "      <td>NaN</td>\n",
              "      <td>213003.000000</td>\n",
              "      <td>NaN</td>\n",
              "      <td>NaN</td>\n",
              "      <td>NaN</td>\n",
              "      <td>197217.760000</td>\n",
              "      <td>NaN</td>\n",
              "      <td>4.000000</td>\n",
              "      <td>1.000000</td>\n",
              "    </tr>\n",
              "  </tbody>\n",
              "</table>\n",
              "</div>\n",
              "      <button class=\"colab-df-convert\" onclick=\"convertToInteractive('df-8c42ed10-ffc8-4b29-90e8-354b23f1a05d')\"\n",
              "              title=\"Convert this dataframe to an interactive table.\"\n",
              "              style=\"display:none;\">\n",
              "        \n",
              "  <svg xmlns=\"http://www.w3.org/2000/svg\" height=\"24px\"viewBox=\"0 0 24 24\"\n",
              "       width=\"24px\">\n",
              "    <path d=\"M0 0h24v24H0V0z\" fill=\"none\"/>\n",
              "    <path d=\"M18.56 5.44l.94 2.06.94-2.06 2.06-.94-2.06-.94-.94-2.06-.94 2.06-2.06.94zm-11 1L8.5 8.5l.94-2.06 2.06-.94-2.06-.94L8.5 2.5l-.94 2.06-2.06.94zm10 10l.94 2.06.94-2.06 2.06-.94-2.06-.94-.94-2.06-.94 2.06-2.06.94z\"/><path d=\"M17.41 7.96l-1.37-1.37c-.4-.4-.92-.59-1.43-.59-.52 0-1.04.2-1.43.59L10.3 9.45l-7.72 7.72c-.78.78-.78 2.05 0 2.83L4 21.41c.39.39.9.59 1.41.59.51 0 1.02-.2 1.41-.59l7.78-7.78 2.81-2.81c.8-.78.8-2.07 0-2.86zM5.41 20L4 18.59l7.72-7.72 1.47 1.35L5.41 20z\"/>\n",
              "  </svg>\n",
              "      </button>\n",
              "      \n",
              "  <style>\n",
              "    .colab-df-container {\n",
              "      display:flex;\n",
              "      flex-wrap:wrap;\n",
              "      gap: 12px;\n",
              "    }\n",
              "\n",
              "    .colab-df-convert {\n",
              "      background-color: #E8F0FE;\n",
              "      border: none;\n",
              "      border-radius: 50%;\n",
              "      cursor: pointer;\n",
              "      display: none;\n",
              "      fill: #1967D2;\n",
              "      height: 32px;\n",
              "      padding: 0 0 0 0;\n",
              "      width: 32px;\n",
              "    }\n",
              "\n",
              "    .colab-df-convert:hover {\n",
              "      background-color: #E2EBFA;\n",
              "      box-shadow: 0px 1px 2px rgba(60, 64, 67, 0.3), 0px 1px 3px 1px rgba(60, 64, 67, 0.15);\n",
              "      fill: #174EA6;\n",
              "    }\n",
              "\n",
              "    [theme=dark] .colab-df-convert {\n",
              "      background-color: #3B4455;\n",
              "      fill: #D2E3FC;\n",
              "    }\n",
              "\n",
              "    [theme=dark] .colab-df-convert:hover {\n",
              "      background-color: #434B5C;\n",
              "      box-shadow: 0px 1px 3px 1px rgba(0, 0, 0, 0.15);\n",
              "      filter: drop-shadow(0px 1px 2px rgba(0, 0, 0, 0.3));\n",
              "      fill: #FFFFFF;\n",
              "    }\n",
              "  </style>\n",
              "\n",
              "      <script>\n",
              "        const buttonEl =\n",
              "          document.querySelector('#df-8c42ed10-ffc8-4b29-90e8-354b23f1a05d button.colab-df-convert');\n",
              "        buttonEl.style.display =\n",
              "          google.colab.kernel.accessAllowed ? 'block' : 'none';\n",
              "\n",
              "        async function convertToInteractive(key) {\n",
              "          const element = document.querySelector('#df-8c42ed10-ffc8-4b29-90e8-354b23f1a05d');\n",
              "          const dataTable =\n",
              "            await google.colab.kernel.invokeFunction('convertToInteractive',\n",
              "                                                     [key], {});\n",
              "          if (!dataTable) return;\n",
              "\n",
              "          const docLinkHtml = 'Like what you see? Visit the ' +\n",
              "            '<a target=\"_blank\" href=https://colab.research.google.com/notebooks/data_table.ipynb>data table notebook</a>'\n",
              "            + ' to learn more about interactive tables.';\n",
              "          element.innerHTML = '';\n",
              "          dataTable['output_type'] = 'display_data';\n",
              "          await google.colab.output.renderOutput(dataTable, element);\n",
              "          const docLink = document.createElement('div');\n",
              "          docLink.innerHTML = docLinkHtml;\n",
              "          element.appendChild(docLink);\n",
              "        }\n",
              "      </script>\n",
              "    </div>\n",
              "  </div>\n",
              "  "
            ]
          },
          "metadata": {},
          "execution_count": 12
        }
      ]
    },
    {
      "cell_type": "code",
      "source": [
        "testdata.describe(include='all')"
      ],
      "metadata": {
        "colab": {
          "base_uri": "https://localhost:8080/",
          "height": 476
        },
        "id": "d-bjj7MzVxuF",
        "outputId": "71d15209-c380-4062-8d32-8d5b408ff58a"
      },
      "execution_count": 13,
      "outputs": [
        {
          "output_type": "execute_result",
          "data": {
            "text/plain": [
              "        transaction_number       user_id          payment_method  \\\n",
              "count         1.913300e+04  1.913300e+04                   19133   \n",
              "unique                 NaN           NaN                       6   \n",
              "top                    NaN           NaN  sbi_atm_cum_debit_card   \n",
              "freq                   NaN           NaN                    7651   \n",
              "mean          7.037622e+14  1.261609e+07                     NaN   \n",
              "std           7.946458e+14  1.228365e+07                     NaN   \n",
              "min           1.000000e+00  3.600000e+01                     NaN   \n",
              "25%           4.313645e+13  3.515625e+06                     NaN   \n",
              "50%           3.585617e+14  9.922500e+06                     NaN   \n",
              "75%           1.184018e+15  1.796064e+07                     NaN   \n",
              "max           2.783822e+15  5.593544e+07                     NaN   \n",
              "\n",
              "           partner_id partner_category  country device_type  money_transacted  \\\n",
              "count    19133.000000            19133    19133       19133      19133.000000   \n",
              "unique            NaN                8        1           4               NaN   \n",
              "top               NaN            cat_1  IND_INR   other_pcs               NaN   \n",
              "freq              NaN             9099    19133       11375               NaN   \n",
              "mean     58656.424084              NaN      NaN         NaN        140.886995   \n",
              "std      36692.507399              NaN      NaN         NaN       2883.975048   \n",
              "min       7889.000000              NaN      NaN         NaN     -20000.000000   \n",
              "25%      23667.000000              NaN      NaN         NaN         -1.000000   \n",
              "50%      47334.000000              NaN      NaN         NaN         20.000000   \n",
              "75%      78890.000000              NaN      NaN         NaN         60.000000   \n",
              "max     213003.000000              NaN      NaN         NaN     197600.000000   \n",
              "\n",
              "           transaction_initiation  partner_pricing_category  \n",
              "count                       19133              19133.000000  \n",
              "unique                      19090                       NaN  \n",
              "top     2016-12-24 16:30:13+00:00                       NaN  \n",
              "freq                            5                       NaN  \n",
              "mean                          NaN                  2.257043  \n",
              "std                           NaN                  0.735934  \n",
              "min                           NaN                  0.000000  \n",
              "25%                           NaN                  2.000000  \n",
              "50%                           NaN                  2.000000  \n",
              "75%                           NaN                  2.000000  \n",
              "max                           NaN                  4.000000  "
            ],
            "text/html": [
              "\n",
              "  <div id=\"df-969f9ac3-bf9e-4213-9cf4-58105b3dcb2a\">\n",
              "    <div class=\"colab-df-container\">\n",
              "      <div>\n",
              "<style scoped>\n",
              "    .dataframe tbody tr th:only-of-type {\n",
              "        vertical-align: middle;\n",
              "    }\n",
              "\n",
              "    .dataframe tbody tr th {\n",
              "        vertical-align: top;\n",
              "    }\n",
              "\n",
              "    .dataframe thead th {\n",
              "        text-align: right;\n",
              "    }\n",
              "</style>\n",
              "<table border=\"1\" class=\"dataframe\">\n",
              "  <thead>\n",
              "    <tr style=\"text-align: right;\">\n",
              "      <th></th>\n",
              "      <th>transaction_number</th>\n",
              "      <th>user_id</th>\n",
              "      <th>payment_method</th>\n",
              "      <th>partner_id</th>\n",
              "      <th>partner_category</th>\n",
              "      <th>country</th>\n",
              "      <th>device_type</th>\n",
              "      <th>money_transacted</th>\n",
              "      <th>transaction_initiation</th>\n",
              "      <th>partner_pricing_category</th>\n",
              "    </tr>\n",
              "  </thead>\n",
              "  <tbody>\n",
              "    <tr>\n",
              "      <th>count</th>\n",
              "      <td>1.913300e+04</td>\n",
              "      <td>1.913300e+04</td>\n",
              "      <td>19133</td>\n",
              "      <td>19133.000000</td>\n",
              "      <td>19133</td>\n",
              "      <td>19133</td>\n",
              "      <td>19133</td>\n",
              "      <td>19133.000000</td>\n",
              "      <td>19133</td>\n",
              "      <td>19133.000000</td>\n",
              "    </tr>\n",
              "    <tr>\n",
              "      <th>unique</th>\n",
              "      <td>NaN</td>\n",
              "      <td>NaN</td>\n",
              "      <td>6</td>\n",
              "      <td>NaN</td>\n",
              "      <td>8</td>\n",
              "      <td>1</td>\n",
              "      <td>4</td>\n",
              "      <td>NaN</td>\n",
              "      <td>19090</td>\n",
              "      <td>NaN</td>\n",
              "    </tr>\n",
              "    <tr>\n",
              "      <th>top</th>\n",
              "      <td>NaN</td>\n",
              "      <td>NaN</td>\n",
              "      <td>sbi_atm_cum_debit_card</td>\n",
              "      <td>NaN</td>\n",
              "      <td>cat_1</td>\n",
              "      <td>IND_INR</td>\n",
              "      <td>other_pcs</td>\n",
              "      <td>NaN</td>\n",
              "      <td>2016-12-24 16:30:13+00:00</td>\n",
              "      <td>NaN</td>\n",
              "    </tr>\n",
              "    <tr>\n",
              "      <th>freq</th>\n",
              "      <td>NaN</td>\n",
              "      <td>NaN</td>\n",
              "      <td>7651</td>\n",
              "      <td>NaN</td>\n",
              "      <td>9099</td>\n",
              "      <td>19133</td>\n",
              "      <td>11375</td>\n",
              "      <td>NaN</td>\n",
              "      <td>5</td>\n",
              "      <td>NaN</td>\n",
              "    </tr>\n",
              "    <tr>\n",
              "      <th>mean</th>\n",
              "      <td>7.037622e+14</td>\n",
              "      <td>1.261609e+07</td>\n",
              "      <td>NaN</td>\n",
              "      <td>58656.424084</td>\n",
              "      <td>NaN</td>\n",
              "      <td>NaN</td>\n",
              "      <td>NaN</td>\n",
              "      <td>140.886995</td>\n",
              "      <td>NaN</td>\n",
              "      <td>2.257043</td>\n",
              "    </tr>\n",
              "    <tr>\n",
              "      <th>std</th>\n",
              "      <td>7.946458e+14</td>\n",
              "      <td>1.228365e+07</td>\n",
              "      <td>NaN</td>\n",
              "      <td>36692.507399</td>\n",
              "      <td>NaN</td>\n",
              "      <td>NaN</td>\n",
              "      <td>NaN</td>\n",
              "      <td>2883.975048</td>\n",
              "      <td>NaN</td>\n",
              "      <td>0.735934</td>\n",
              "    </tr>\n",
              "    <tr>\n",
              "      <th>min</th>\n",
              "      <td>1.000000e+00</td>\n",
              "      <td>3.600000e+01</td>\n",
              "      <td>NaN</td>\n",
              "      <td>7889.000000</td>\n",
              "      <td>NaN</td>\n",
              "      <td>NaN</td>\n",
              "      <td>NaN</td>\n",
              "      <td>-20000.000000</td>\n",
              "      <td>NaN</td>\n",
              "      <td>0.000000</td>\n",
              "    </tr>\n",
              "    <tr>\n",
              "      <th>25%</th>\n",
              "      <td>4.313645e+13</td>\n",
              "      <td>3.515625e+06</td>\n",
              "      <td>NaN</td>\n",
              "      <td>23667.000000</td>\n",
              "      <td>NaN</td>\n",
              "      <td>NaN</td>\n",
              "      <td>NaN</td>\n",
              "      <td>-1.000000</td>\n",
              "      <td>NaN</td>\n",
              "      <td>2.000000</td>\n",
              "    </tr>\n",
              "    <tr>\n",
              "      <th>50%</th>\n",
              "      <td>3.585617e+14</td>\n",
              "      <td>9.922500e+06</td>\n",
              "      <td>NaN</td>\n",
              "      <td>47334.000000</td>\n",
              "      <td>NaN</td>\n",
              "      <td>NaN</td>\n",
              "      <td>NaN</td>\n",
              "      <td>20.000000</td>\n",
              "      <td>NaN</td>\n",
              "      <td>2.000000</td>\n",
              "    </tr>\n",
              "    <tr>\n",
              "      <th>75%</th>\n",
              "      <td>1.184018e+15</td>\n",
              "      <td>1.796064e+07</td>\n",
              "      <td>NaN</td>\n",
              "      <td>78890.000000</td>\n",
              "      <td>NaN</td>\n",
              "      <td>NaN</td>\n",
              "      <td>NaN</td>\n",
              "      <td>60.000000</td>\n",
              "      <td>NaN</td>\n",
              "      <td>2.000000</td>\n",
              "    </tr>\n",
              "    <tr>\n",
              "      <th>max</th>\n",
              "      <td>2.783822e+15</td>\n",
              "      <td>5.593544e+07</td>\n",
              "      <td>NaN</td>\n",
              "      <td>213003.000000</td>\n",
              "      <td>NaN</td>\n",
              "      <td>NaN</td>\n",
              "      <td>NaN</td>\n",
              "      <td>197600.000000</td>\n",
              "      <td>NaN</td>\n",
              "      <td>4.000000</td>\n",
              "    </tr>\n",
              "  </tbody>\n",
              "</table>\n",
              "</div>\n",
              "      <button class=\"colab-df-convert\" onclick=\"convertToInteractive('df-969f9ac3-bf9e-4213-9cf4-58105b3dcb2a')\"\n",
              "              title=\"Convert this dataframe to an interactive table.\"\n",
              "              style=\"display:none;\">\n",
              "        \n",
              "  <svg xmlns=\"http://www.w3.org/2000/svg\" height=\"24px\"viewBox=\"0 0 24 24\"\n",
              "       width=\"24px\">\n",
              "    <path d=\"M0 0h24v24H0V0z\" fill=\"none\"/>\n",
              "    <path d=\"M18.56 5.44l.94 2.06.94-2.06 2.06-.94-2.06-.94-.94-2.06-.94 2.06-2.06.94zm-11 1L8.5 8.5l.94-2.06 2.06-.94-2.06-.94L8.5 2.5l-.94 2.06-2.06.94zm10 10l.94 2.06.94-2.06 2.06-.94-2.06-.94-.94-2.06-.94 2.06-2.06.94z\"/><path d=\"M17.41 7.96l-1.37-1.37c-.4-.4-.92-.59-1.43-.59-.52 0-1.04.2-1.43.59L10.3 9.45l-7.72 7.72c-.78.78-.78 2.05 0 2.83L4 21.41c.39.39.9.59 1.41.59.51 0 1.02-.2 1.41-.59l7.78-7.78 2.81-2.81c.8-.78.8-2.07 0-2.86zM5.41 20L4 18.59l7.72-7.72 1.47 1.35L5.41 20z\"/>\n",
              "  </svg>\n",
              "      </button>\n",
              "      \n",
              "  <style>\n",
              "    .colab-df-container {\n",
              "      display:flex;\n",
              "      flex-wrap:wrap;\n",
              "      gap: 12px;\n",
              "    }\n",
              "\n",
              "    .colab-df-convert {\n",
              "      background-color: #E8F0FE;\n",
              "      border: none;\n",
              "      border-radius: 50%;\n",
              "      cursor: pointer;\n",
              "      display: none;\n",
              "      fill: #1967D2;\n",
              "      height: 32px;\n",
              "      padding: 0 0 0 0;\n",
              "      width: 32px;\n",
              "    }\n",
              "\n",
              "    .colab-df-convert:hover {\n",
              "      background-color: #E2EBFA;\n",
              "      box-shadow: 0px 1px 2px rgba(60, 64, 67, 0.3), 0px 1px 3px 1px rgba(60, 64, 67, 0.15);\n",
              "      fill: #174EA6;\n",
              "    }\n",
              "\n",
              "    [theme=dark] .colab-df-convert {\n",
              "      background-color: #3B4455;\n",
              "      fill: #D2E3FC;\n",
              "    }\n",
              "\n",
              "    [theme=dark] .colab-df-convert:hover {\n",
              "      background-color: #434B5C;\n",
              "      box-shadow: 0px 1px 3px 1px rgba(0, 0, 0, 0.15);\n",
              "      filter: drop-shadow(0px 1px 2px rgba(0, 0, 0, 0.3));\n",
              "      fill: #FFFFFF;\n",
              "    }\n",
              "  </style>\n",
              "\n",
              "      <script>\n",
              "        const buttonEl =\n",
              "          document.querySelector('#df-969f9ac3-bf9e-4213-9cf4-58105b3dcb2a button.colab-df-convert');\n",
              "        buttonEl.style.display =\n",
              "          google.colab.kernel.accessAllowed ? 'block' : 'none';\n",
              "\n",
              "        async function convertToInteractive(key) {\n",
              "          const element = document.querySelector('#df-969f9ac3-bf9e-4213-9cf4-58105b3dcb2a');\n",
              "          const dataTable =\n",
              "            await google.colab.kernel.invokeFunction('convertToInteractive',\n",
              "                                                     [key], {});\n",
              "          if (!dataTable) return;\n",
              "\n",
              "          const docLinkHtml = 'Like what you see? Visit the ' +\n",
              "            '<a target=\"_blank\" href=https://colab.research.google.com/notebooks/data_table.ipynb>data table notebook</a>'\n",
              "            + ' to learn more about interactive tables.';\n",
              "          element.innerHTML = '';\n",
              "          dataTable['output_type'] = 'display_data';\n",
              "          await google.colab.output.renderOutput(dataTable, element);\n",
              "          const docLink = document.createElement('div');\n",
              "          docLink.innerHTML = docLinkHtml;\n",
              "          element.appendChild(docLink);\n",
              "        }\n",
              "      </script>\n",
              "    </div>\n",
              "  </div>\n",
              "  "
            ]
          },
          "metadata": {},
          "execution_count": 13
        }
      ]
    },
    {
      "cell_type": "code",
      "source": [
        "data.dtypes"
      ],
      "metadata": {
        "colab": {
          "base_uri": "https://localhost:8080/"
        },
        "id": "DJHaItA04quu",
        "outputId": "fa22d371-27a8-42fe-ad31-3cf48fe9f051"
      },
      "execution_count": 14,
      "outputs": [
        {
          "output_type": "execute_result",
          "data": {
            "text/plain": [
              "transaction_number            int64\n",
              "user_id                       int64\n",
              "payment_method               object\n",
              "partner_id                    int64\n",
              "partner_category             object\n",
              "country                      object\n",
              "device_type                  object\n",
              "money_transacted            float64\n",
              "transaction_initiation       object\n",
              "partner_pricing_category      int64\n",
              "is_fraud                      int64\n",
              "dtype: object"
            ]
          },
          "metadata": {},
          "execution_count": 14
        }
      ]
    },
    {
      "cell_type": "code",
      "source": [
        "testdata.dtypes"
      ],
      "metadata": {
        "colab": {
          "base_uri": "https://localhost:8080/"
        },
        "id": "qTvGA48iV3M-",
        "outputId": "50c9ab5d-fe42-4588-bcb5-4228d0661d75"
      },
      "execution_count": 15,
      "outputs": [
        {
          "output_type": "execute_result",
          "data": {
            "text/plain": [
              "transaction_number            int64\n",
              "user_id                       int64\n",
              "payment_method               object\n",
              "partner_id                    int64\n",
              "partner_category             object\n",
              "country                      object\n",
              "device_type                  object\n",
              "money_transacted            float64\n",
              "transaction_initiation       object\n",
              "partner_pricing_category      int64\n",
              "dtype: object"
            ]
          },
          "metadata": {},
          "execution_count": 15
        }
      ]
    },
    {
      "cell_type": "code",
      "source": [
        "import seaborn as sns\n",
        "sns.heatmap(data.corr(),cmap='Greens',annot=True)"
      ],
      "metadata": {
        "colab": {
          "base_uri": "https://localhost:8080/",
          "height": 402
        },
        "id": "mE24IFkX5Gon",
        "outputId": "c93d0327-06c7-4ffd-c242-916f88715a39"
      },
      "execution_count": 16,
      "outputs": [
        {
          "output_type": "execute_result",
          "data": {
            "text/plain": [
              "<matplotlib.axes._subplots.AxesSubplot at 0x7f9f2b13c150>"
            ]
          },
          "metadata": {},
          "execution_count": 16
        },
        {
          "output_type": "display_data",
          "data": {
            "text/plain": [
              "<Figure size 432x288 with 2 Axes>"
            ],
            "image/png": "[encoded data removed]"
          },
          "metadata": {
            "needs_background": "light"
          }
        }
      ]
    },
    {
      "cell_type": "code",
      "source": [
        "obj_attr=data.select_dtypes('object').columns\n",
        "for i in obj_attr:\n",
        "  print(data[i].nunique())\n",
        "  print(data[i].value_counts())"
      ],
      "metadata": {
        "colab": {
          "base_uri": "https://localhost:8080/"
        },
        "id": "0RpXjyra_W-u",
        "outputId": "f07d6e62-c1e7-4e7e-d5ad-2638b2b66c63"
      },
      "execution_count": 17,
      "outputs": [
        {
          "output_type": "stream",
          "name": "stdout",
          "text": [
            "6\n",
            "sbi_atm_cum_debit_card        30538\n",
            "e_wallet_payments             27384\n",
            "visa_master_debit_cards       11643\n",
            "other_debit_cards              4495\n",
            "visa_master_credit_cards       2454\n",
            "unified_payments_interface       15\n",
            "Name: payment_method, dtype: int64\n",
            "9\n",
            "cat_1    36306\n",
            "cat_2    36019\n",
            "cat_3     1536\n",
            "cat_4     1310\n",
            "cat_5     1026\n",
            "cat_7      165\n",
            "cat_6      146\n",
            "cat_8       19\n",
            "cat_9        2\n",
            "Name: partner_category, dtype: int64\n",
            "1\n",
            "IND_INR    76529\n",
            "Name: country, dtype: int64\n",
            "4\n",
            "other_pcs          45560\n",
            "android_devices    29662\n",
            "ios_devices          876\n",
            "windows_pcs          431\n",
            "Name: device_type, dtype: int64\n",
            "75811\n",
            "2016-12-24 16:30:13+00:00    12\n",
            "2016-11-15 07:03:26+00:00     7\n",
            "2016-12-24 16:30:12+00:00     6\n",
            "2017-01-04 04:29:41+00:00     4\n",
            "2017-02-01 10:58:34+00:00     4\n",
            "                             ..\n",
            "2016-11-19 06:18:42+00:00     1\n",
            "2016-11-21 08:57:53+00:00     1\n",
            "2016-12-13 08:52:02+00:00     1\n",
            "2016-11-26 11:07:53+00:00     1\n",
            "2017-01-11 19:08:18+00:00     1\n",
            "Name: transaction_initiation, Length: 75811, dtype: int64\n"
          ]
        }
      ]
    },
    {
      "cell_type": "code",
      "source": [
        "obj_attr=data.select_dtypes('object').columns\n",
        "for i in obj_attr:\n",
        "  print(testdata[i].nunique())\n",
        "  print(testdata[i].value_counts())"
      ],
      "metadata": {
        "colab": {
          "base_uri": "https://localhost:8080/"
        },
        "id": "EAKlJlt5V_73",
        "outputId": "b095c74a-fabc-4c1d-f150-0b70d7387249"
      },
      "execution_count": 18,
      "outputs": [
        {
          "output_type": "stream",
          "name": "stdout",
          "text": [
            "6\n",
            "sbi_atm_cum_debit_card        7651\n",
            "e_wallet_payments             6802\n",
            "visa_master_debit_cards       2899\n",
            "other_debit_cards             1148\n",
            "visa_master_credit_cards       630\n",
            "unified_payments_interface       3\n",
            "Name: payment_method, dtype: int64\n",
            "8\n",
            "cat_1    9099\n",
            "cat_2    9008\n",
            "cat_3     384\n",
            "cat_4     303\n",
            "cat_5     253\n",
            "cat_7      51\n",
            "cat_6      29\n",
            "cat_8       6\n",
            "Name: partner_category, dtype: int64\n",
            "1\n",
            "IND_INR    19133\n",
            "Name: country, dtype: int64\n",
            "4\n",
            "other_pcs          11375\n",
            "android_devices     7479\n",
            "ios_devices          172\n",
            "windows_pcs          107\n",
            "Name: device_type, dtype: int64\n",
            "19090\n",
            "2016-12-24 16:30:13+00:00    5\n",
            "2016-11-15 07:03:27+00:00    3\n",
            "2017-02-10 06:17:49+00:00    2\n",
            "2017-02-01 12:06:41+00:00    2\n",
            "2016-12-23 12:07:37+00:00    2\n",
            "                            ..\n",
            "2017-02-01 05:47:20+00:00    1\n",
            "2016-12-07 06:07:40+00:00    1\n",
            "2017-01-04 09:59:06+00:00    1\n",
            "2017-01-08 11:04:18+00:00    1\n",
            "2017-01-12 21:24:24+00:00    1\n",
            "Name: transaction_initiation, Length: 19090, dtype: int64\n"
          ]
        }
      ]
    },
    {
      "cell_type": "code",
      "source": [
        "int_attr=data.select_dtypes('int64').columns\n",
        "for i in int_attr:\n",
        "  print(data[i].nunique())\n",
        "  print(data[i].value_counts())"
      ],
      "metadata": {
        "colab": {
          "base_uri": "https://localhost:8080/"
        },
        "id": "tIMF1-5gAnBb",
        "outputId": "ac5029b5-3ab4-4246-b1e6-2a74bbeaaac9"
      },
      "execution_count": 19,
      "outputs": [
        {
          "output_type": "stream",
          "name": "stdout",
          "text": [
            "76529\n",
            "144703125000        1\n",
            "1397377534615399    1\n",
            "375554430505792     1\n",
            "97685557616375      1\n",
            "1927875222034579    1\n",
            "                   ..\n",
            "1947973286169       1\n",
            "233676600572584     1\n",
            "2003664131986509    1\n",
            "1251471920359744    1\n",
            "1051344513778987    1\n",
            "Name: transaction_number, Length: 76529, dtype: int64\n",
            "3594\n",
            "53919649    3240\n",
            "13205956    1656\n",
            "418609      1530\n",
            "1201216      623\n",
            "16265089     622\n",
            "            ... \n",
            "567009         1\n",
            "20539024       1\n",
            "21613201       1\n",
            "26347689       1\n",
            "27952369       1\n",
            "Name: user_id, Length: 3594, dtype: int64\n",
            "23\n",
            "47334     26105\n",
            "23667     19526\n",
            "78890     12273\n",
            "118335     9546\n",
            "7889       2317\n",
            "31556      1892\n",
            "165669     1216\n",
            "86779      1121\n",
            "149891      767\n",
            "110446      640\n",
            "102557      231\n",
            "15778       189\n",
            "157780      165\n",
            "63112       159\n",
            "189336      146\n",
            "173558       89\n",
            "55223        75\n",
            "213003       25\n",
            "39445        19\n",
            "71001        15\n",
            "126224       10\n",
            "94668         2\n",
            "181447        1\n",
            "Name: partner_id, dtype: int64\n",
            "4\n",
            "2    63899\n",
            "4    10833\n",
            "1     1497\n",
            "0      300\n",
            "Name: partner_pricing_category, dtype: int64\n",
            "2\n",
            "0    76375\n",
            "1      154\n",
            "Name: is_fraud, dtype: int64\n"
          ]
        }
      ]
    },
    {
      "cell_type": "code",
      "source": [
        "data.drop([\"country\",\"transaction_number\"],axis=1,inplace=True)"
      ],
      "metadata": {
        "id": "4JLhFkcR6I5y"
      },
      "execution_count": 20,
      "outputs": []
    },
    {
      "cell_type": "code",
      "source": [
        "testdata.drop([\"country\",\"transaction_number\"],axis=1,inplace=True)"
      ],
      "metadata": {
        "id": "BFNgBXirXnDt"
      },
      "execution_count": 21,
      "outputs": []
    },
    {
      "cell_type": "code",
      "source": [
        "data.dtypes"
      ],
      "metadata": {
        "colab": {
          "base_uri": "https://localhost:8080/"
        },
        "id": "1praGdwF7BMo",
        "outputId": "17d31e3f-95a1-41ce-f2e1-bcfb68af0e68"
      },
      "execution_count": 22,
      "outputs": [
        {
          "output_type": "execute_result",
          "data": {
            "text/plain": [
              "user_id                       int64\n",
              "payment_method               object\n",
              "partner_id                    int64\n",
              "partner_category             object\n",
              "device_type                  object\n",
              "money_transacted            float64\n",
              "transaction_initiation       object\n",
              "partner_pricing_category      int64\n",
              "is_fraud                      int64\n",
              "dtype: object"
            ]
          },
          "metadata": {},
          "execution_count": 22
        }
      ]
    },
    {
      "cell_type": "code",
      "source": [
        "testdata.dtypes"
      ],
      "metadata": {
        "colab": {
          "base_uri": "https://localhost:8080/"
        },
        "id": "E9SQlS_WXxT9",
        "outputId": "e9a792d9-7f96-41ce-ac81-8cd4c854db1b"
      },
      "execution_count": 23,
      "outputs": [
        {
          "output_type": "execute_result",
          "data": {
            "text/plain": [
              "user_id                       int64\n",
              "payment_method               object\n",
              "partner_id                    int64\n",
              "partner_category             object\n",
              "device_type                  object\n",
              "money_transacted            float64\n",
              "transaction_initiation       object\n",
              "partner_pricing_category      int64\n",
              "dtype: object"
            ]
          },
          "metadata": {},
          "execution_count": 23
        }
      ]
    },
    {
      "cell_type": "code",
      "source": [
        "data.isnull().sum()"
      ],
      "metadata": {
        "colab": {
          "base_uri": "https://localhost:8080/"
        },
        "id": "Ciw9eaJb7ED2",
        "outputId": "5125d113-7fa2-44d2-9ebf-ffd38b61e022"
      },
      "execution_count": 24,
      "outputs": [
        {
          "output_type": "execute_result",
          "data": {
            "text/plain": [
              "user_id                     0\n",
              "payment_method              0\n",
              "partner_id                  0\n",
              "partner_category            0\n",
              "device_type                 0\n",
              "money_transacted            0\n",
              "transaction_initiation      0\n",
              "partner_pricing_category    0\n",
              "is_fraud                    0\n",
              "dtype: int64"
            ]
          },
          "metadata": {},
          "execution_count": 24
        }
      ]
    },
    {
      "cell_type": "code",
      "source": [
        "testdata.isnull().sum()"
      ],
      "metadata": {
        "colab": {
          "base_uri": "https://localhost:8080/"
        },
        "id": "8fczmlKDX3AX",
        "outputId": "898d77b5-9716-4038-a5c9-62bd94bada51"
      },
      "execution_count": 25,
      "outputs": [
        {
          "output_type": "execute_result",
          "data": {
            "text/plain": [
              "user_id                     0\n",
              "payment_method              0\n",
              "partner_id                  0\n",
              "partner_category            0\n",
              "device_type                 0\n",
              "money_transacted            0\n",
              "transaction_initiation      0\n",
              "partner_pricing_category    0\n",
              "dtype: int64"
            ]
          },
          "metadata": {},
          "execution_count": 25
        }
      ]
    },
    {
      "cell_type": "code",
      "source": [
        "cat_attr=([\"payment_method\",\"partner_category\",\"device_type\"])\n",
        "data[cat_attr]=data[cat_attr].astype('category')"
      ],
      "metadata": {
        "id": "5VPRz5gD8dF3"
      },
      "execution_count": 26,
      "outputs": []
    },
    {
      "cell_type": "code",
      "source": [
        "cat_attr=([\"payment_method\",\"partner_category\",\"device_type\"])\n",
        "testdata[cat_attr]=testdata[cat_attr].astype('category')"
      ],
      "metadata": {
        "id": "wG_PXL2cX9Fc"
      },
      "execution_count": 27,
      "outputs": []
    },
    {
      "cell_type": "code",
      "source": [
        "data.dtypes"
      ],
      "metadata": {
        "colab": {
          "base_uri": "https://localhost:8080/"
        },
        "id": "nzQSSlRAI4dh",
        "outputId": "d129f9e7-fc48-42b2-e9b4-6fc82fa9f006"
      },
      "execution_count": 28,
      "outputs": [
        {
          "output_type": "execute_result",
          "data": {
            "text/plain": [
              "user_id                        int64\n",
              "payment_method              category\n",
              "partner_id                     int64\n",
              "partner_category            category\n",
              "device_type                 category\n",
              "money_transacted             float64\n",
              "transaction_initiation        object\n",
              "partner_pricing_category       int64\n",
              "is_fraud                       int64\n",
              "dtype: object"
            ]
          },
          "metadata": {},
          "execution_count": 28
        }
      ]
    },
    {
      "cell_type": "code",
      "source": [
        "testdata.dtypes"
      ],
      "metadata": {
        "colab": {
          "base_uri": "https://localhost:8080/"
        },
        "id": "US2nR3jzYFvY",
        "outputId": "844b2d89-5c2d-475b-c9f0-e6bb11a02bd8"
      },
      "execution_count": 29,
      "outputs": [
        {
          "output_type": "execute_result",
          "data": {
            "text/plain": [
              "user_id                        int64\n",
              "payment_method              category\n",
              "partner_id                     int64\n",
              "partner_category            category\n",
              "device_type                 category\n",
              "money_transacted             float64\n",
              "transaction_initiation        object\n",
              "partner_pricing_category       int64\n",
              "dtype: object"
            ]
          },
          "metadata": {},
          "execution_count": 29
        }
      ]
    },
    {
      "cell_type": "markdown",
      "source": [
        "### converting transaction_initiation into dateandtime data type"
      ],
      "metadata": {
        "id": "lr7Jf3QHZJMQ"
      }
    },
    {
      "cell_type": "code",
      "source": [
        "data['transaction_initiation'] = pd.to_datetime(data['transaction_initiation'])"
      ],
      "metadata": {
        "id": "bWSYpik_P26t"
      },
      "execution_count": 30,
      "outputs": []
    },
    {
      "cell_type": "code",
      "source": [
        "testdata['transaction_initiation'] = pd.to_datetime(testdata['transaction_initiation'])"
      ],
      "metadata": {
        "id": "QatUf2G7ZkGh"
      },
      "execution_count": 31,
      "outputs": []
    },
    {
      "cell_type": "code",
      "source": [
        "data['transaction_initiation'].dtypes"
      ],
      "metadata": {
        "colab": {
          "base_uri": "https://localhost:8080/"
        },
        "id": "TdrT5PPuZqga",
        "outputId": "fbf6987b-04b7-4fe9-f4b2-9d57480a4826"
      },
      "execution_count": 32,
      "outputs": [
        {
          "output_type": "execute_result",
          "data": {
            "text/plain": [
              "datetime64[ns, UTC]"
            ]
          },
          "metadata": {},
          "execution_count": 32
        }
      ]
    },
    {
      "cell_type": "code",
      "source": [
        "testdata['transaction_initiation'].dtypes"
      ],
      "metadata": {
        "colab": {
          "base_uri": "https://localhost:8080/"
        },
        "id": "uKO4VTyNaOYJ",
        "outputId": "201f3555-c35a-4b96-b009-81c1e458132a"
      },
      "execution_count": 33,
      "outputs": [
        {
          "output_type": "execute_result",
          "data": {
            "text/plain": [
              "datetime64[ns, UTC]"
            ]
          },
          "metadata": {},
          "execution_count": 33
        }
      ]
    },
    {
      "cell_type": "markdown",
      "source": [
        "### Using transaction_initiation to create colums [Month, Day, Year, Time]"
      ],
      "metadata": {
        "id": "ohwMnAgAaoob"
      }
    },
    {
      "cell_type": "code",
      "source": [
        "data['year'] = data['transaction_initiation'].dt.year\n",
        "data['month'] = data['transaction_initiation'].dt.month\n",
        "data['day'] = data['transaction_initiation'].dt.day\n",
        "data['time'] = data['transaction_initiation'].dt.time\n",
        "data.drop(columns='transaction_initiation', axis='column', inplace=True)"
      ],
      "metadata": {
        "id": "UGzjV6J9aaRB"
      },
      "execution_count": 34,
      "outputs": []
    },
    {
      "cell_type": "code",
      "source": [
        "testdata['year'] = testdata['transaction_initiation'].dt.year\n",
        "testdata['month'] = testdata['transaction_initiation'].dt.month\n",
        "testdata['day'] = testdata['transaction_initiation'].dt.day\n",
        "testdata['time'] = testdata['transaction_initiation'].dt.time\n",
        "testdata.drop(columns='transaction_initiation', axis='column', inplace=True)"
      ],
      "metadata": {
        "id": "AXqxC-lGbVJt"
      },
      "execution_count": 35,
      "outputs": []
    },
    {
      "cell_type": "code",
      "source": [
        "data"
      ],
      "metadata": {
        "colab": {
          "base_uri": "https://localhost:8080/",
          "height": 488
        },
        "id": "oD71pExEbl4s",
        "outputId": "e21be83e-ff84-47aa-dbb7-53337b128659"
      },
      "execution_count": 36,
      "outputs": [
        {
          "output_type": "execute_result",
          "data": {
            "text/plain": [
              "        user_id           payment_method  partner_id partner_category  \\\n",
              "0      17539344   sbi_atm_cum_debit_card       47334            cat_1   \n",
              "1      24710841        e_wallet_payments       78890            cat_2   \n",
              "2      24265476        e_wallet_payments       78890            cat_2   \n",
              "3      10240000        other_debit_cards      102557            cat_3   \n",
              "4       5880625        other_debit_cards      118335            cat_1   \n",
              "...         ...                      ...         ...              ...   \n",
              "76524  19686969   sbi_atm_cum_debit_card       47334            cat_1   \n",
              "76525  11662225  visa_master_debit_cards      118335            cat_1   \n",
              "76526    374544   sbi_atm_cum_debit_card       47334            cat_1   \n",
              "76527   1687401   sbi_atm_cum_debit_card       47334            cat_1   \n",
              "76528   6754801   sbi_atm_cum_debit_card       47334            cat_1   \n",
              "\n",
              "           device_type  money_transacted  partner_pricing_category  is_fraud  \\\n",
              "0      android_devices              -5.0                         2         0   \n",
              "1            other_pcs             100.0                         2         0   \n",
              "2            other_pcs              50.0                         2         0   \n",
              "3            other_pcs            1000.0                         2         0   \n",
              "4            other_pcs             200.0                         2         0   \n",
              "...                ...               ...                       ...       ...   \n",
              "76524  android_devices            -100.0                         2         0   \n",
              "76525        other_pcs             200.0                         2         0   \n",
              "76526  android_devices              -3.5                         2         0   \n",
              "76527  android_devices             -20.0                         2         0   \n",
              "76528  android_devices            -100.0                         2         0   \n",
              "\n",
              "       year  month  day      time  \n",
              "0      2016     11   15  19:16:12  \n",
              "1      2017      1   11  09:25:33  \n",
              "2      2016     12    7  07:58:09  \n",
              "3      2017      1   11  16:15:44  \n",
              "4      2016     11   16  17:04:42  \n",
              "...     ...    ...  ...       ...  \n",
              "76524  2016     11   30  13:40:45  \n",
              "76525  2017      1    8  08:35:31  \n",
              "76526  2016     12   26  21:47:08  \n",
              "76527  2016     12   11  13:44:06  \n",
              "76528  2017      1   11  19:08:18  \n",
              "\n",
              "[76529 rows x 12 columns]"
            ],
            "text/html": [
              "\n",
              "  <div id=\"df-64dccbba-86e8-4ab9-ab10-461cd9730854\">\n",
              "    <div class=\"colab-df-container\">\n",
              "      <div>\n",
              "<style scoped>\n",
              "    .dataframe tbody tr th:only-of-type {\n",
              "        vertical-align: middle;\n",
              "    }\n",
              "\n",
              "    .dataframe tbody tr th {\n",
              "        vertical-align: top;\n",
              "    }\n",
              "\n",
              "    .dataframe thead th {\n",
              "        text-align: right;\n",
              "    }\n",
              "</style>\n",
              "<table border=\"1\" class=\"dataframe\">\n",
              "  <thead>\n",
              "    <tr style=\"text-align: right;\">\n",
              "      <th></th>\n",
              "      <th>user_id</th>\n",
              "      <th>payment_method</th>\n",
              "      <th>partner_id</th>\n",
              "      <th>partner_category</th>\n",
              "      <th>device_type</th>\n",
              "      <th>money_transacted</th>\n",
              "      <th>partner_pricing_category</th>\n",
              "      <th>is_fraud</th>\n",
              "      <th>year</th>\n",
              "      <th>month</th>\n",
              "      <th>day</th>\n",
              "      <th>time</th>\n",
              "    </tr>\n",
              "  </thead>\n",
              "  <tbody>\n",
              "    <tr>\n",
              "      <th>0</th>\n",
              "      <td>17539344</td>\n",
              "      <td>sbi_atm_cum_debit_card</td>\n",
              "      <td>47334</td>\n",
              "      <td>cat_1</td>\n",
              "      <td>android_devices</td>\n",
              "      <td>-5.0</td>\n",
              "      <td>2</td>\n",
              "      <td>0</td>\n",
              "      <td>2016</td>\n",
              "      <td>11</td>\n",
              "      <td>15</td>\n",
              "      <td>19:16:12</td>\n",
              "    </tr>\n",
              "    <tr>\n",
              "      <th>1</th>\n",
              "      <td>24710841</td>\n",
              "      <td>e_wallet_payments</td>\n",
              "      <td>78890</td>\n",
              "      <td>cat_2</td>\n",
              "      <td>other_pcs</td>\n",
              "      <td>100.0</td>\n",
              "      <td>2</td>\n",
              "      <td>0</td>\n",
              "      <td>2017</td>\n",
              "      <td>1</td>\n",
              "      <td>11</td>\n",
              "      <td>09:25:33</td>\n",
              "    </tr>\n",
              "    <tr>\n",
              "      <th>2</th>\n",
              "      <td>24265476</td>\n",
              "      <td>e_wallet_payments</td>\n",
              "      <td>78890</td>\n",
              "      <td>cat_2</td>\n",
              "      <td>other_pcs</td>\n",
              "      <td>50.0</td>\n",
              "      <td>2</td>\n",
              "      <td>0</td>\n",
              "      <td>2016</td>\n",
              "      <td>12</td>\n",
              "      <td>7</td>\n",
              "      <td>07:58:09</td>\n",
              "    </tr>\n",
              "    <tr>\n",
              "      <th>3</th>\n",
              "      <td>10240000</td>\n",
              "      <td>other_debit_cards</td>\n",
              "      <td>102557</td>\n",
              "      <td>cat_3</td>\n",
              "      <td>other_pcs</td>\n",
              "      <td>1000.0</td>\n",
              "      <td>2</td>\n",
              "      <td>0</td>\n",
              "      <td>2017</td>\n",
              "      <td>1</td>\n",
              "      <td>11</td>\n",
              "      <td>16:15:44</td>\n",
              "    </tr>\n",
              "    <tr>\n",
              "      <th>4</th>\n",
              "      <td>5880625</td>\n",
              "      <td>other_debit_cards</td>\n",
              "      <td>118335</td>\n",
              "      <td>cat_1</td>\n",
              "      <td>other_pcs</td>\n",
              "      <td>200.0</td>\n",
              "      <td>2</td>\n",
              "      <td>0</td>\n",
              "      <td>2016</td>\n",
              "      <td>11</td>\n",
              "      <td>16</td>\n",
              "      <td>17:04:42</td>\n",
              "    </tr>\n",
              "    <tr>\n",
              "      <th>...</th>\n",
              "      <td>...</td>\n",
              "      <td>...</td>\n",
              "      <td>...</td>\n",
              "      <td>...</td>\n",
              "      <td>...</td>\n",
              "      <td>...</td>\n",
              "      <td>...</td>\n",
              "      <td>...</td>\n",
              "      <td>...</td>\n",
              "      <td>...</td>\n",
              "      <td>...</td>\n",
              "      <td>...</td>\n",
              "    </tr>\n",
              "    <tr>\n",
              "      <th>76524</th>\n",
              "      <td>19686969</td>\n",
              "      <td>sbi_atm_cum_debit_card</td>\n",
              "      <td>47334</td>\n",
              "      <td>cat_1</td>\n",
              "      <td>android_devices</td>\n",
              "      <td>-100.0</td>\n",
              "      <td>2</td>\n",
              "      <td>0</td>\n",
              "      <td>2016</td>\n",
              "      <td>11</td>\n",
              "      <td>30</td>\n",
              "      <td>13:40:45</td>\n",
              "    </tr>\n",
              "    <tr>\n",
              "      <th>76525</th>\n",
              "      <td>11662225</td>\n",
              "      <td>visa_master_debit_cards</td>\n",
              "      <td>118335</td>\n",
              "      <td>cat_1</td>\n",
              "      <td>other_pcs</td>\n",
              "      <td>200.0</td>\n",
              "      <td>2</td>\n",
              "      <td>0</td>\n",
              "      <td>2017</td>\n",
              "      <td>1</td>\n",
              "      <td>8</td>\n",
              "      <td>08:35:31</td>\n",
              "    </tr>\n",
              "    <tr>\n",
              "      <th>76526</th>\n",
              "      <td>374544</td>\n",
              "      <td>sbi_atm_cum_debit_card</td>\n",
              "      <td>47334</td>\n",
              "      <td>cat_1</td>\n",
              "      <td>android_devices</td>\n",
              "      <td>-3.5</td>\n",
              "      <td>2</td>\n",
              "      <td>0</td>\n",
              "      <td>2016</td>\n",
              "      <td>12</td>\n",
              "      <td>26</td>\n",
              "      <td>21:47:08</td>\n",
              "    </tr>\n",
              "    <tr>\n",
              "      <th>76527</th>\n",
              "      <td>1687401</td>\n",
              "      <td>sbi_atm_cum_debit_card</td>\n",
              "      <td>47334</td>\n",
              "      <td>cat_1</td>\n",
              "      <td>android_devices</td>\n",
              "      <td>-20.0</td>\n",
              "      <td>2</td>\n",
              "      <td>0</td>\n",
              "      <td>2016</td>\n",
              "      <td>12</td>\n",
              "      <td>11</td>\n",
              "      <td>13:44:06</td>\n",
              "    </tr>\n",
              "    <tr>\n",
              "      <th>76528</th>\n",
              "      <td>6754801</td>\n",
              "      <td>sbi_atm_cum_debit_card</td>\n",
              "      <td>47334</td>\n",
              "      <td>cat_1</td>\n",
              "      <td>android_devices</td>\n",
              "      <td>-100.0</td>\n",
              "      <td>2</td>\n",
              "      <td>0</td>\n",
              "      <td>2017</td>\n",
              "      <td>1</td>\n",
              "      <td>11</td>\n",
              "      <td>19:08:18</td>\n",
              "    </tr>\n",
              "  </tbody>\n",
              "</table>\n",
              "<p>76529 rows × 12 columns</p>\n",
              "</div>\n",
              "      <button class=\"colab-df-convert\" onclick=\"convertToInteractive('df-64dccbba-86e8-4ab9-ab10-461cd9730854')\"\n",
              "              title=\"Convert this dataframe to an interactive table.\"\n",
              "              style=\"display:none;\">\n",
              "        \n",
              "  <svg xmlns=\"http://www.w3.org/2000/svg\" height=\"24px\"viewBox=\"0 0 24 24\"\n",
              "       width=\"24px\">\n",
              "    <path d=\"M0 0h24v24H0V0z\" fill=\"none\"/>\n",
              "    <path d=\"M18.56 5.44l.94 2.06.94-2.06 2.06-.94-2.06-.94-.94-2.06-.94 2.06-2.06.94zm-11 1L8.5 8.5l.94-2.06 2.06-.94-2.06-.94L8.5 2.5l-.94 2.06-2.06.94zm10 10l.94 2.06.94-2.06 2.06-.94-2.06-.94-.94-2.06-.94 2.06-2.06.94z\"/><path d=\"M17.41 7.96l-1.37-1.37c-.4-.4-.92-.59-1.43-.59-.52 0-1.04.2-1.43.59L10.3 9.45l-7.72 7.72c-.78.78-.78 2.05 0 2.83L4 21.41c.39.39.9.59 1.41.59.51 0 1.02-.2 1.41-.59l7.78-7.78 2.81-2.81c.8-.78.8-2.07 0-2.86zM5.41 20L4 18.59l7.72-7.72 1.47 1.35L5.41 20z\"/>\n",
              "  </svg>\n",
              "      </button>\n",
              "      \n",
              "  <style>\n",
              "    .colab-df-container {\n",
              "      display:flex;\n",
              "      flex-wrap:wrap;\n",
              "      gap: 12px;\n",
              "    }\n",
              "\n",
              "    .colab-df-convert {\n",
              "      background-color: #E8F0FE;\n",
              "      border: none;\n",
              "      border-radius: 50%;\n",
              "      cursor: pointer;\n",
              "      display: none;\n",
              "      fill: #1967D2;\n",
              "      height: 32px;\n",
              "      padding: 0 0 0 0;\n",
              "      width: 32px;\n",
              "    }\n",
              "\n",
              "    .colab-df-convert:hover {\n",
              "      background-color: #E2EBFA;\n",
              "      box-shadow: 0px 1px 2px rgba(60, 64, 67, 0.3), 0px 1px 3px 1px rgba(60, 64, 67, 0.15);\n",
              "      fill: #174EA6;\n",
              "    }\n",
              "\n",
              "    [theme=dark] .colab-df-convert {\n",
              "      background-color: #3B4455;\n",
              "      fill: #D2E3FC;\n",
              "    }\n",
              "\n",
              "    [theme=dark] .colab-df-convert:hover {\n",
              "      background-color: #434B5C;\n",
              "      box-shadow: 0px 1px 3px 1px rgba(0, 0, 0, 0.15);\n",
              "      filter: drop-shadow(0px 1px 2px rgba(0, 0, 0, 0.3));\n",
              "      fill: #FFFFFF;\n",
              "    }\n",
              "  </style>\n",
              "\n",
              "      <script>\n",
              "        const buttonEl =\n",
              "          document.querySelector('#df-64dccbba-86e8-4ab9-ab10-461cd9730854 button.colab-df-convert');\n",
              "        buttonEl.style.display =\n",
              "          google.colab.kernel.accessAllowed ? 'block' : 'none';\n",
              "\n",
              "        async function convertToInteractive(key) {\n",
              "          const element = document.querySelector('#df-64dccbba-86e8-4ab9-ab10-461cd9730854');\n",
              "          const dataTable =\n",
              "            await google.colab.kernel.invokeFunction('convertToInteractive',\n",
              "                                                     [key], {});\n",
              "          if (!dataTable) return;\n",
              "\n",
              "          const docLinkHtml = 'Like what you see? Visit the ' +\n",
              "            '<a target=\"_blank\" href=https://colab.research.google.com/notebooks/data_table.ipynb>data table notebook</a>'\n",
              "            + ' to learn more about interactive tables.';\n",
              "          element.innerHTML = '';\n",
              "          dataTable['output_type'] = 'display_data';\n",
              "          await google.colab.output.renderOutput(dataTable, element);\n",
              "          const docLink = document.createElement('div');\n",
              "          docLink.innerHTML = docLinkHtml;\n",
              "          element.appendChild(docLink);\n",
              "        }\n",
              "      </script>\n",
              "    </div>\n",
              "  </div>\n",
              "  "
            ]
          },
          "metadata": {},
          "execution_count": 36
        }
      ]
    },
    {
      "cell_type": "code",
      "source": [
        "testdata"
      ],
      "metadata": {
        "colab": {
          "base_uri": "https://localhost:8080/",
          "height": 468
        },
        "id": "4Zrdk7qDb10u",
        "outputId": "71d6bbb0-bbed-49d7-9f23-14102650da81"
      },
      "execution_count": 37,
      "outputs": [
        {
          "output_type": "execute_result",
          "data": {
            "text/plain": [
              "        user_id            payment_method  partner_id partner_category  \\\n",
              "0       3802500   visa_master_debit_cards      118335            cat_1   \n",
              "1        200704         e_wallet_payments       23667            cat_2   \n",
              "2      25150225    sbi_atm_cum_debit_card       47334            cat_1   \n",
              "3      21827584  visa_master_credit_cards       78890            cat_2   \n",
              "4        576081         e_wallet_payments       23667            cat_2   \n",
              "...         ...                       ...         ...              ...   \n",
              "19128  13235044         e_wallet_payments       23667            cat_2   \n",
              "19129  12257001         e_wallet_payments       78890            cat_2   \n",
              "19130   5958481   visa_master_debit_cards       23667            cat_2   \n",
              "19131  53919649    sbi_atm_cum_debit_card       78890            cat_2   \n",
              "19132  14500864         e_wallet_payments       78890            cat_2   \n",
              "\n",
              "           device_type  money_transacted  partner_pricing_category  year  \\\n",
              "0            other_pcs             200.0                         2  2016   \n",
              "1            other_pcs              20.0                         2  2016   \n",
              "2      android_devices            -100.0                         2  2017   \n",
              "3            other_pcs             200.0                         1  2017   \n",
              "4            other_pcs             100.0                         2  2017   \n",
              "...                ...               ...                       ...   ...   \n",
              "19128        other_pcs              20.0                         2  2017   \n",
              "19129        other_pcs              30.0                         2  2016   \n",
              "19130        other_pcs              20.0                         4  2016   \n",
              "19131  android_devices            -500.0                         4  2016   \n",
              "19132        other_pcs              40.0                         2  2017   \n",
              "\n",
              "       month  day      time  \n",
              "0         12   28  14:44:37  \n",
              "1         12   14  17:49:48  \n",
              "2          1   21  10:18:11  \n",
              "3          1   16  13:25:10  \n",
              "4          2    9  12:47:28  \n",
              "...      ...  ...       ...  \n",
              "19128      1    1  13:02:16  \n",
              "19129     12   26  19:41:23  \n",
              "19130     12   24  04:29:06  \n",
              "19131     12    4  15:38:47  \n",
              "19132      1   12  21:24:24  \n",
              "\n",
              "[19133 rows x 11 columns]"
            ],
            "text/html": [
              "\n",
              "  <div id=\"df-78694718-edde-4151-a8e1-ee69a87add06\">\n",
              "    <div class=\"colab-df-container\">\n",
              "      <div>\n",
              "<style scoped>\n",
              "    .dataframe tbody tr th:only-of-type {\n",
              "        vertical-align: middle;\n",
              "    }\n",
              "\n",
              "    .dataframe tbody tr th {\n",
              "        vertical-align: top;\n",
              "    }\n",
              "\n",
              "    .dataframe thead th {\n",
              "        text-align: right;\n",
              "    }\n",
              "</style>\n",
              "<table border=\"1\" class=\"dataframe\">\n",
              "  <thead>\n",
              "    <tr style=\"text-align: right;\">\n",
              "      <th></th>\n",
              "      <th>user_id</th>\n",
              "      <th>payment_method</th>\n",
              "      <th>partner_id</th>\n",
              "      <th>partner_category</th>\n",
              "      <th>device_type</th>\n",
              "      <th>money_transacted</th>\n",
              "      <th>partner_pricing_category</th>\n",
              "      <th>year</th>\n",
              "      <th>month</th>\n",
              "      <th>day</th>\n",
              "      <th>time</th>\n",
              "    </tr>\n",
              "  </thead>\n",
              "  <tbody>\n",
              "    <tr>\n",
              "      <th>0</th>\n",
              "      <td>3802500</td>\n",
              "      <td>visa_master_debit_cards</td>\n",
              "      <td>118335</td>\n",
              "      <td>cat_1</td>\n",
              "      <td>other_pcs</td>\n",
              "      <td>200.0</td>\n",
              "      <td>2</td>\n",
              "      <td>2016</td>\n",
              "      <td>12</td>\n",
              "      <td>28</td>\n",
              "      <td>14:44:37</td>\n",
              "    </tr>\n",
              "    <tr>\n",
              "      <th>1</th>\n",
              "      <td>200704</td>\n",
              "      <td>e_wallet_payments</td>\n",
              "      <td>23667</td>\n",
              "      <td>cat_2</td>\n",
              "      <td>other_pcs</td>\n",
              "      <td>20.0</td>\n",
              "      <td>2</td>\n",
              "      <td>2016</td>\n",
              "      <td>12</td>\n",
              "      <td>14</td>\n",
              "      <td>17:49:48</td>\n",
              "    </tr>\n",
              "    <tr>\n",
              "      <th>2</th>\n",
              "      <td>25150225</td>\n",
              "      <td>sbi_atm_cum_debit_card</td>\n",
              "      <td>47334</td>\n",
              "      <td>cat_1</td>\n",
              "      <td>android_devices</td>\n",
              "      <td>-100.0</td>\n",
              "      <td>2</td>\n",
              "      <td>2017</td>\n",
              "      <td>1</td>\n",
              "      <td>21</td>\n",
              "      <td>10:18:11</td>\n",
              "    </tr>\n",
              "    <tr>\n",
              "      <th>3</th>\n",
              "      <td>21827584</td>\n",
              "      <td>visa_master_credit_cards</td>\n",
              "      <td>78890</td>\n",
              "      <td>cat_2</td>\n",
              "      <td>other_pcs</td>\n",
              "      <td>200.0</td>\n",
              "      <td>1</td>\n",
              "      <td>2017</td>\n",
              "      <td>1</td>\n",
              "      <td>16</td>\n",
              "      <td>13:25:10</td>\n",
              "    </tr>\n",
              "    <tr>\n",
              "      <th>4</th>\n",
              "      <td>576081</td>\n",
              "      <td>e_wallet_payments</td>\n",
              "      <td>23667</td>\n",
              "      <td>cat_2</td>\n",
              "      <td>other_pcs</td>\n",
              "      <td>100.0</td>\n",
              "      <td>2</td>\n",
              "      <td>2017</td>\n",
              "      <td>2</td>\n",
              "      <td>9</td>\n",
              "      <td>12:47:28</td>\n",
              "    </tr>\n",
              "    <tr>\n",
              "      <th>...</th>\n",
              "      <td>...</td>\n",
              "      <td>...</td>\n",
              "      <td>...</td>\n",
              "      <td>...</td>\n",
              "      <td>...</td>\n",
              "      <td>...</td>\n",
              "      <td>...</td>\n",
              "      <td>...</td>\n",
              "      <td>...</td>\n",
              "      <td>...</td>\n",
              "      <td>...</td>\n",
              "    </tr>\n",
              "    <tr>\n",
              "      <th>19128</th>\n",
              "      <td>13235044</td>\n",
              "      <td>e_wallet_payments</td>\n",
              "      <td>23667</td>\n",
              "      <td>cat_2</td>\n",
              "      <td>other_pcs</td>\n",
              "      <td>20.0</td>\n",
              "      <td>2</td>\n",
              "      <td>2017</td>\n",
              "      <td>1</td>\n",
              "      <td>1</td>\n",
              "      <td>13:02:16</td>\n",
              "    </tr>\n",
              "    <tr>\n",
              "      <th>19129</th>\n",
              "      <td>12257001</td>\n",
              "      <td>e_wallet_payments</td>\n",
              "      <td>78890</td>\n",
              "      <td>cat_2</td>\n",
              "      <td>other_pcs</td>\n",
              "      <td>30.0</td>\n",
              "      <td>2</td>\n",
              "      <td>2016</td>\n",
              "      <td>12</td>\n",
              "      <td>26</td>\n",
              "      <td>19:41:23</td>\n",
              "    </tr>\n",
              "    <tr>\n",
              "      <th>19130</th>\n",
              "      <td>5958481</td>\n",
              "      <td>visa_master_debit_cards</td>\n",
              "      <td>23667</td>\n",
              "      <td>cat_2</td>\n",
              "      <td>other_pcs</td>\n",
              "      <td>20.0</td>\n",
              "      <td>4</td>\n",
              "      <td>2016</td>\n",
              "      <td>12</td>\n",
              "      <td>24</td>\n",
              "      <td>04:29:06</td>\n",
              "    </tr>\n",
              "    <tr>\n",
              "      <th>19131</th>\n",
              "      <td>53919649</td>\n",
              "      <td>sbi_atm_cum_debit_card</td>\n",
              "      <td>78890</td>\n",
              "      <td>cat_2</td>\n",
              "      <td>android_devices</td>\n",
              "      <td>-500.0</td>\n",
              "      <td>4</td>\n",
              "      <td>2016</td>\n",
              "      <td>12</td>\n",
              "      <td>4</td>\n",
              "      <td>15:38:47</td>\n",
              "    </tr>\n",
              "    <tr>\n",
              "      <th>19132</th>\n",
              "      <td>14500864</td>\n",
              "      <td>e_wallet_payments</td>\n",
              "      <td>78890</td>\n",
              "      <td>cat_2</td>\n",
              "      <td>other_pcs</td>\n",
              "      <td>40.0</td>\n",
              "      <td>2</td>\n",
              "      <td>2017</td>\n",
              "      <td>1</td>\n",
              "      <td>12</td>\n",
              "      <td>21:24:24</td>\n",
              "    </tr>\n",
              "  </tbody>\n",
              "</table>\n",
              "<p>19133 rows × 11 columns</p>\n",
              "</div>\n",
              "      <button class=\"colab-df-convert\" onclick=\"convertToInteractive('df-78694718-edde-4151-a8e1-ee69a87add06')\"\n",
              "              title=\"Convert this dataframe to an interactive table.\"\n",
              "              style=\"display:none;\">\n",
              "        \n",
              "  <svg xmlns=\"http://www.w3.org/2000/svg\" height=\"24px\"viewBox=\"0 0 24 24\"\n",
              "       width=\"24px\">\n",
              "    <path d=\"M0 0h24v24H0V0z\" fill=\"none\"/>\n",
              "    <path d=\"M18.56 5.44l.94 2.06.94-2.06 2.06-.94-2.06-.94-.94-2.06-.94 2.06-2.06.94zm-11 1L8.5 8.5l.94-2.06 2.06-.94-2.06-.94L8.5 2.5l-.94 2.06-2.06.94zm10 10l.94 2.06.94-2.06 2.06-.94-2.06-.94-.94-2.06-.94 2.06-2.06.94z\"/><path d=\"M17.41 7.96l-1.37-1.37c-.4-.4-.92-.59-1.43-.59-.52 0-1.04.2-1.43.59L10.3 9.45l-7.72 7.72c-.78.78-.78 2.05 0 2.83L4 21.41c.39.39.9.59 1.41.59.51 0 1.02-.2 1.41-.59l7.78-7.78 2.81-2.81c.8-.78.8-2.07 0-2.86zM5.41 20L4 18.59l7.72-7.72 1.47 1.35L5.41 20z\"/>\n",
              "  </svg>\n",
              "      </button>\n",
              "      \n",
              "  <style>\n",
              "    .colab-df-container {\n",
              "      display:flex;\n",
              "      flex-wrap:wrap;\n",
              "      gap: 12px;\n",
              "    }\n",
              "\n",
              "    .colab-df-convert {\n",
              "      background-color: #E8F0FE;\n",
              "      border: none;\n",
              "      border-radius: 50%;\n",
              "      cursor: pointer;\n",
              "      display: none;\n",
              "      fill: #1967D2;\n",
              "      height: 32px;\n",
              "      padding: 0 0 0 0;\n",
              "      width: 32px;\n",
              "    }\n",
              "\n",
              "    .colab-df-convert:hover {\n",
              "      background-color: #E2EBFA;\n",
              "      box-shadow: 0px 1px 2px rgba(60, 64, 67, 0.3), 0px 1px 3px 1px rgba(60, 64, 67, 0.15);\n",
              "      fill: #174EA6;\n",
              "    }\n",
              "\n",
              "    [theme=dark] .colab-df-convert {\n",
              "      background-color: #3B4455;\n",
              "      fill: #D2E3FC;\n",
              "    }\n",
              "\n",
              "    [theme=dark] .colab-df-convert:hover {\n",
              "      background-color: #434B5C;\n",
              "      box-shadow: 0px 1px 3px 1px rgba(0, 0, 0, 0.15);\n",
              "      filter: drop-shadow(0px 1px 2px rgba(0, 0, 0, 0.3));\n",
              "      fill: #FFFFFF;\n",
              "    }\n",
              "  </style>\n",
              "\n",
              "      <script>\n",
              "        const buttonEl =\n",
              "          document.querySelector('#df-78694718-edde-4151-a8e1-ee69a87add06 button.colab-df-convert');\n",
              "        buttonEl.style.display =\n",
              "          google.colab.kernel.accessAllowed ? 'block' : 'none';\n",
              "\n",
              "        async function convertToInteractive(key) {\n",
              "          const element = document.querySelector('#df-78694718-edde-4151-a8e1-ee69a87add06');\n",
              "          const dataTable =\n",
              "            await google.colab.kernel.invokeFunction('convertToInteractive',\n",
              "                                                     [key], {});\n",
              "          if (!dataTable) return;\n",
              "\n",
              "          const docLinkHtml = 'Like what you see? Visit the ' +\n",
              "            '<a target=\"_blank\" href=https://colab.research.google.com/notebooks/data_table.ipynb>data table notebook</a>'\n",
              "            + ' to learn more about interactive tables.';\n",
              "          element.innerHTML = '';\n",
              "          dataTable['output_type'] = 'display_data';\n",
              "          await google.colab.output.renderOutput(dataTable, element);\n",
              "          const docLink = document.createElement('div');\n",
              "          docLink.innerHTML = docLinkHtml;\n",
              "          element.appendChild(docLink);\n",
              "        }\n",
              "      </script>\n",
              "    </div>\n",
              "  </div>\n",
              "  "
            ]
          },
          "metadata": {},
          "execution_count": 37
        }
      ]
    },
    {
      "cell_type": "code",
      "source": [
        "data.drop(['time'],axis=1,inplace=True)"
      ],
      "metadata": {
        "id": "VHvaRLYtd2oN"
      },
      "execution_count": 38,
      "outputs": []
    },
    {
      "cell_type": "code",
      "source": [
        "testdata.drop(['time'],axis=1,inplace=True)"
      ],
      "metadata": {
        "id": "dYw8nu_TenCY"
      },
      "execution_count": 39,
      "outputs": []
    },
    {
      "cell_type": "code",
      "source": [
        "data.dtypes"
      ],
      "metadata": {
        "colab": {
          "base_uri": "https://localhost:8080/"
        },
        "id": "APQoY1xYf22q",
        "outputId": "beff8080-e597-4503-b15b-c8723d3372c4"
      },
      "execution_count": 40,
      "outputs": [
        {
          "output_type": "execute_result",
          "data": {
            "text/plain": [
              "user_id                        int64\n",
              "payment_method              category\n",
              "partner_id                     int64\n",
              "partner_category            category\n",
              "device_type                 category\n",
              "money_transacted             float64\n",
              "partner_pricing_category       int64\n",
              "is_fraud                       int64\n",
              "year                           int64\n",
              "month                          int64\n",
              "day                            int64\n",
              "dtype: object"
            ]
          },
          "metadata": {},
          "execution_count": 40
        }
      ]
    },
    {
      "cell_type": "code",
      "source": [
        "testdata.dtypes"
      ],
      "metadata": {
        "colab": {
          "base_uri": "https://localhost:8080/"
        },
        "id": "pa3aMAqVm-nt",
        "outputId": "01e26e48-fd28-4520-a0c2-f1878ea295d8"
      },
      "execution_count": 41,
      "outputs": [
        {
          "output_type": "execute_result",
          "data": {
            "text/plain": [
              "user_id                        int64\n",
              "payment_method              category\n",
              "partner_id                     int64\n",
              "partner_category            category\n",
              "device_type                 category\n",
              "money_transacted             float64\n",
              "partner_pricing_category       int64\n",
              "year                           int64\n",
              "month                          int64\n",
              "day                            int64\n",
              "dtype: object"
            ]
          },
          "metadata": {},
          "execution_count": 41
        }
      ]
    },
    {
      "cell_type": "code",
      "source": [
        "from sklearn.preprocessing import OneHotEncoder"
      ],
      "metadata": {
        "id": "oKMYJT0Hnjh0"
      },
      "execution_count": 42,
      "outputs": []
    },
    {
      "cell_type": "code",
      "source": [
        "data = pd.get_dummies(data)"
      ],
      "metadata": {
        "id": "sJHa_zUqqFvT"
      },
      "execution_count": 43,
      "outputs": []
    },
    {
      "cell_type": "code",
      "source": [
        "data.head()"
      ],
      "metadata": {
        "colab": {
          "base_uri": "https://localhost:8080/",
          "height": 299
        },
        "id": "hJXkJHEuqM3F",
        "outputId": "3388ddd0-ce4a-4b02-865d-3872929c30f4"
      },
      "execution_count": 44,
      "outputs": [
        {
          "output_type": "execute_result",
          "data": {
            "text/plain": [
              "    user_id  partner_id  money_transacted  partner_pricing_category  is_fraud  \\\n",
              "0  17539344       47334              -5.0                         2         0   \n",
              "1  24710841       78890             100.0                         2         0   \n",
              "2  24265476       78890              50.0                         2         0   \n",
              "3  10240000      102557            1000.0                         2         0   \n",
              "4   5880625      118335             200.0                         2         0   \n",
              "\n",
              "   year  month  day  payment_method_e_wallet_payments  \\\n",
              "0  2016     11   15                                 0   \n",
              "1  2017      1   11                                 1   \n",
              "2  2016     12    7                                 1   \n",
              "3  2017      1   11                                 0   \n",
              "4  2016     11   16                                 0   \n",
              "\n",
              "   payment_method_other_debit_cards  ...  partner_category_cat_4  \\\n",
              "0                                 0  ...                       0   \n",
              "1                                 0  ...                       0   \n",
              "2                                 0  ...                       0   \n",
              "3                                 1  ...                       0   \n",
              "4                                 1  ...                       0   \n",
              "\n",
              "   partner_category_cat_5  partner_category_cat_6  partner_category_cat_7  \\\n",
              "0                       0                       0                       0   \n",
              "1                       0                       0                       0   \n",
              "2                       0                       0                       0   \n",
              "3                       0                       0                       0   \n",
              "4                       0                       0                       0   \n",
              "\n",
              "   partner_category_cat_8  partner_category_cat_9  \\\n",
              "0                       0                       0   \n",
              "1                       0                       0   \n",
              "2                       0                       0   \n",
              "3                       0                       0   \n",
              "4                       0                       0   \n",
              "\n",
              "   device_type_android_devices  device_type_ios_devices  \\\n",
              "0                            1                        0   \n",
              "1                            0                        0   \n",
              "2                            0                        0   \n",
              "3                            0                        0   \n",
              "4                            0                        0   \n",
              "\n",
              "   device_type_other_pcs  device_type_windows_pcs  \n",
              "0                      0                        0  \n",
              "1                      1                        0  \n",
              "2                      1                        0  \n",
              "3                      1                        0  \n",
              "4                      1                        0  \n",
              "\n",
              "[5 rows x 27 columns]"
            ],
            "text/html": [
              "\n",
              "  <div id=\"df-8cfb051e-a91b-4058-ba1b-b3fcda3d19d4\">\n",
              "    <div class=\"colab-df-container\">\n",
              "      <div>\n",
              "<style scoped>\n",
              "    .dataframe tbody tr th:only-of-type {\n",
              "        vertical-align: middle;\n",
              "    }\n",
              "\n",
              "    .dataframe tbody tr th {\n",
              "        vertical-align: top;\n",
              "    }\n",
              "\n",
              "    .dataframe thead th {\n",
              "        text-align: right;\n",
              "    }\n",
              "</style>\n",
              "<table border=\"1\" class=\"dataframe\">\n",
              "  <thead>\n",
              "    <tr style=\"text-align: right;\">\n",
              "      <th></th>\n",
              "      <th>user_id</th>\n",
              "      <th>partner_id</th>\n",
              "      <th>money_transacted</th>\n",
              "      <th>partner_pricing_category</th>\n",
              "      <th>is_fraud</th>\n",
              "      <th>year</th>\n",
              "      <th>month</th>\n",
              "      <th>day</th>\n",
              "      <th>payment_method_e_wallet_payments</th>\n",
              "      <th>payment_method_other_debit_cards</th>\n",
              "      <th>...</th>\n",
              "      <th>partner_category_cat_4</th>\n",
              "      <th>partner_category_cat_5</th>\n",
              "      <th>partner_category_cat_6</th>\n",
              "      <th>partner_category_cat_7</th>\n",
              "      <th>partner_category_cat_8</th>\n",
              "      <th>partner_category_cat_9</th>\n",
              "      <th>device_type_android_devices</th>\n",
              "      <th>device_type_ios_devices</th>\n",
              "      <th>device_type_other_pcs</th>\n",
              "      <th>device_type_windows_pcs</th>\n",
              "    </tr>\n",
              "  </thead>\n",
              "  <tbody>\n",
              "    <tr>\n",
              "      <th>0</th>\n",
              "      <td>17539344</td>\n",
              "      <td>47334</td>\n",
              "      <td>-5.0</td>\n",
              "      <td>2</td>\n",
              "      <td>0</td>\n",
              "      <td>2016</td>\n",
              "      <td>11</td>\n",
              "      <td>15</td>\n",
              "      <td>0</td>\n",
              "      <td>0</td>\n",
              "      <td>...</td>\n",
              "      <td>0</td>\n",
              "      <td>0</td>\n",
              "      <td>0</td>\n",
              "      <td>0</td>\n",
              "      <td>0</td>\n",
              "      <td>0</td>\n",
              "      <td>1</td>\n",
              "      <td>0</td>\n",
              "      <td>0</td>\n",
              "      <td>0</td>\n",
              "    </tr>\n",
              "    <tr>\n",
              "      <th>1</th>\n",
              "      <td>24710841</td>\n",
              "      <td>78890</td>\n",
              "      <td>100.0</td>\n",
              "      <td>2</td>\n",
              "      <td>0</td>\n",
              "      <td>2017</td>\n",
              "      <td>1</td>\n",
              "      <td>11</td>\n",
              "      <td>1</td>\n",
              "      <td>0</td>\n",
              "      <td>...</td>\n",
              "      <td>0</td>\n",
              "      <td>0</td>\n",
              "      <td>0</td>\n",
              "      <td>0</td>\n",
              "      <td>0</td>\n",
              "      <td>0</td>\n",
              "      <td>0</td>\n",
              "      <td>0</td>\n",
              "      <td>1</td>\n",
              "      <td>0</td>\n",
              "    </tr>\n",
              "    <tr>\n",
              "      <th>2</th>\n",
              "      <td>24265476</td>\n",
              "      <td>78890</td>\n",
              "      <td>50.0</td>\n",
              "      <td>2</td>\n",
              "      <td>0</td>\n",
              "      <td>2016</td>\n",
              "      <td>12</td>\n",
              "      <td>7</td>\n",
              "      <td>1</td>\n",
              "      <td>0</td>\n",
              "      <td>...</td>\n",
              "      <td>0</td>\n",
              "      <td>0</td>\n",
              "      <td>0</td>\n",
              "      <td>0</td>\n",
              "      <td>0</td>\n",
              "      <td>0</td>\n",
              "      <td>0</td>\n",
              "      <td>0</td>\n",
              "      <td>1</td>\n",
              "      <td>0</td>\n",
              "    </tr>\n",
              "    <tr>\n",
              "      <th>3</th>\n",
              "      <td>10240000</td>\n",
              "      <td>102557</td>\n",
              "      <td>1000.0</td>\n",
              "      <td>2</td>\n",
              "      <td>0</td>\n",
              "      <td>2017</td>\n",
              "      <td>1</td>\n",
              "      <td>11</td>\n",
              "      <td>0</td>\n",
              "      <td>1</td>\n",
              "      <td>...</td>\n",
              "      <td>0</td>\n",
              "      <td>0</td>\n",
              "      <td>0</td>\n",
              "      <td>0</td>\n",
              "      <td>0</td>\n",
              "      <td>0</td>\n",
              "      <td>0</td>\n",
              "      <td>0</td>\n",
              "      <td>1</td>\n",
              "      <td>0</td>\n",
              "    </tr>\n",
              "    <tr>\n",
              "      <th>4</th>\n",
              "      <td>5880625</td>\n",
              "      <td>118335</td>\n",
              "      <td>200.0</td>\n",
              "      <td>2</td>\n",
              "      <td>0</td>\n",
              "      <td>2016</td>\n",
              "      <td>11</td>\n",
              "      <td>16</td>\n",
              "      <td>0</td>\n",
              "      <td>1</td>\n",
              "      <td>...</td>\n",
              "      <td>0</td>\n",
              "      <td>0</td>\n",
              "      <td>0</td>\n",
              "      <td>0</td>\n",
              "      <td>0</td>\n",
              "      <td>0</td>\n",
              "      <td>0</td>\n",
              "      <td>0</td>\n",
              "      <td>1</td>\n",
              "      <td>0</td>\n",
              "    </tr>\n",
              "  </tbody>\n",
              "</table>\n",
              "<p>5 rows × 27 columns</p>\n",
              "</div>\n",
              "      <button class=\"colab-df-convert\" onclick=\"convertToInteractive('df-8cfb051e-a91b-4058-ba1b-b3fcda3d19d4')\"\n",
              "              title=\"Convert this dataframe to an interactive table.\"\n",
              "              style=\"display:none;\">\n",
              "        \n",
              "  <svg xmlns=\"http://www.w3.org/2000/svg\" height=\"24px\"viewBox=\"0 0 24 24\"\n",
              "       width=\"24px\">\n",
              "    <path d=\"M0 0h24v24H0V0z\" fill=\"none\"/>\n",
              "    <path d=\"M18.56 5.44l.94 2.06.94-2.06 2.06-.94-2.06-.94-.94-2.06-.94 2.06-2.06.94zm-11 1L8.5 8.5l.94-2.06 2.06-.94-2.06-.94L8.5 2.5l-.94 2.06-2.06.94zm10 10l.94 2.06.94-2.06 2.06-.94-2.06-.94-.94-2.06-.94 2.06-2.06.94z\"/><path d=\"M17.41 7.96l-1.37-1.37c-.4-.4-.92-.59-1.43-.59-.52 0-1.04.2-1.43.59L10.3 9.45l-7.72 7.72c-.78.78-.78 2.05 0 2.83L4 21.41c.39.39.9.59 1.41.59.51 0 1.02-.2 1.41-.59l7.78-7.78 2.81-2.81c.8-.78.8-2.07 0-2.86zM5.41 20L4 18.59l7.72-7.72 1.47 1.35L5.41 20z\"/>\n",
              "  </svg>\n",
              "      </button>\n",
              "      \n",
              "  <style>\n",
              "    .colab-df-container {\n",
              "      display:flex;\n",
              "      flex-wrap:wrap;\n",
              "      gap: 12px;\n",
              "    }\n",
              "\n",
              "    .colab-df-convert {\n",
              "      background-color: #E8F0FE;\n",
              "      border: none;\n",
              "      border-radius: 50%;\n",
              "      cursor: pointer;\n",
              "      display: none;\n",
              "      fill: #1967D2;\n",
              "      height: 32px;\n",
              "      padding: 0 0 0 0;\n",
              "      width: 32px;\n",
              "    }\n",
              "\n",
              "    .colab-df-convert:hover {\n",
              "      background-color: #E2EBFA;\n",
              "      box-shadow: 0px 1px 2px rgba(60, 64, 67, 0.3), 0px 1px 3px 1px rgba(60, 64, 67, 0.15);\n",
              "      fill: #174EA6;\n",
              "    }\n",
              "\n",
              "    [theme=dark] .colab-df-convert {\n",
              "      background-color: #3B4455;\n",
              "      fill: #D2E3FC;\n",
              "    }\n",
              "\n",
              "    [theme=dark] .colab-df-convert:hover {\n",
              "      background-color: #434B5C;\n",
              "      box-shadow: 0px 1px 3px 1px rgba(0, 0, 0, 0.15);\n",
              "      filter: drop-shadow(0px 1px 2px rgba(0, 0, 0, 0.3));\n",
              "      fill: #FFFFFF;\n",
              "    }\n",
              "  </style>\n",
              "\n",
              "      <script>\n",
              "        const buttonEl =\n",
              "          document.querySelector('#df-8cfb051e-a91b-4058-ba1b-b3fcda3d19d4 button.colab-df-convert');\n",
              "        buttonEl.style.display =\n",
              "          google.colab.kernel.accessAllowed ? 'block' : 'none';\n",
              "\n",
              "        async function convertToInteractive(key) {\n",
              "          const element = document.querySelector('#df-8cfb051e-a91b-4058-ba1b-b3fcda3d19d4');\n",
              "          const dataTable =\n",
              "            await google.colab.kernel.invokeFunction('convertToInteractive',\n",
              "                                                     [key], {});\n",
              "          if (!dataTable) return;\n",
              "\n",
              "          const docLinkHtml = 'Like what you see? Visit the ' +\n",
              "            '<a target=\"_blank\" href=https://colab.research.google.com/notebooks/data_table.ipynb>data table notebook</a>'\n",
              "            + ' to learn more about interactive tables.';\n",
              "          element.innerHTML = '';\n",
              "          dataTable['output_type'] = 'display_data';\n",
              "          await google.colab.output.renderOutput(dataTable, element);\n",
              "          const docLink = document.createElement('div');\n",
              "          docLink.innerHTML = docLinkHtml;\n",
              "          element.appendChild(docLink);\n",
              "        }\n",
              "      </script>\n",
              "    </div>\n",
              "  </div>\n",
              "  "
            ]
          },
          "metadata": {},
          "execution_count": 44
        }
      ]
    },
    {
      "cell_type": "code",
      "source": [
        "data.columns"
      ],
      "metadata": {
        "colab": {
          "base_uri": "https://localhost:8080/"
        },
        "id": "OY-_a8MZqo7u",
        "outputId": "a5eb030f-99cd-42dc-9ef5-c338e34c5482"
      },
      "execution_count": 45,
      "outputs": [
        {
          "output_type": "execute_result",
          "data": {
            "text/plain": [
              "Index(['user_id', 'partner_id', 'money_transacted', 'partner_pricing_category',\n",
              "       'is_fraud', 'year', 'month', 'day', 'payment_method_e_wallet_payments',\n",
              "       'payment_method_other_debit_cards',\n",
              "       'payment_method_sbi_atm_cum_debit_card',\n",
              "       'payment_method_unified_payments_interface',\n",
              "       'payment_method_visa_master_credit_cards',\n",
              "       'payment_method_visa_master_debit_cards', 'partner_category_cat_1',\n",
              "       'partner_category_cat_2', 'partner_category_cat_3',\n",
              "       'partner_category_cat_4', 'partner_category_cat_5',\n",
              "       'partner_category_cat_6', 'partner_category_cat_7',\n",
              "       'partner_category_cat_8', 'partner_category_cat_9',\n",
              "       'device_type_android_devices', 'device_type_ios_devices',\n",
              "       'device_type_other_pcs', 'device_type_windows_pcs'],\n",
              "      dtype='object')"
            ]
          },
          "metadata": {},
          "execution_count": 45
        }
      ]
    },
    {
      "cell_type": "code",
      "source": [
        "testdata = pd.get_dummies(testdata)"
      ],
      "metadata": {
        "id": "3HRo0fLLqzQ5"
      },
      "execution_count": 46,
      "outputs": []
    },
    {
      "cell_type": "code",
      "source": [
        "testdata.head()"
      ],
      "metadata": {
        "colab": {
          "base_uri": "https://localhost:8080/",
          "height": 299
        },
        "id": "kn3ZRTysrFBc",
        "outputId": "0c7dbe5b-fd7d-4615-eee3-f8bc9efe2335"
      },
      "execution_count": 47,
      "outputs": [
        {
          "output_type": "execute_result",
          "data": {
            "text/plain": [
              "    user_id  partner_id  money_transacted  partner_pricing_category  year  \\\n",
              "0   3802500      118335             200.0                         2  2016   \n",
              "1    200704       23667              20.0                         2  2016   \n",
              "2  25150225       47334            -100.0                         2  2017   \n",
              "3  21827584       78890             200.0                         1  2017   \n",
              "4    576081       23667             100.0                         2  2017   \n",
              "\n",
              "   month  day  payment_method_e_wallet_payments  \\\n",
              "0     12   28                                 0   \n",
              "1     12   14                                 1   \n",
              "2      1   21                                 0   \n",
              "3      1   16                                 0   \n",
              "4      2    9                                 1   \n",
              "\n",
              "   payment_method_other_debit_cards  payment_method_sbi_atm_cum_debit_card  \\\n",
              "0                                 0                                      0   \n",
              "1                                 0                                      0   \n",
              "2                                 0                                      1   \n",
              "3                                 0                                      0   \n",
              "4                                 0                                      0   \n",
              "\n",
              "   ...  partner_category_cat_3  partner_category_cat_4  \\\n",
              "0  ...                       0                       0   \n",
              "1  ...                       0                       0   \n",
              "2  ...                       0                       0   \n",
              "3  ...                       0                       0   \n",
              "4  ...                       0                       0   \n",
              "\n",
              "   partner_category_cat_5  partner_category_cat_6  partner_category_cat_7  \\\n",
              "0                       0                       0                       0   \n",
              "1                       0                       0                       0   \n",
              "2                       0                       0                       0   \n",
              "3                       0                       0                       0   \n",
              "4                       0                       0                       0   \n",
              "\n",
              "   partner_category_cat_8  device_type_android_devices  \\\n",
              "0                       0                            0   \n",
              "1                       0                            0   \n",
              "2                       0                            1   \n",
              "3                       0                            0   \n",
              "4                       0                            0   \n",
              "\n",
              "   device_type_ios_devices  device_type_other_pcs  device_type_windows_pcs  \n",
              "0                        0                      1                        0  \n",
              "1                        0                      1                        0  \n",
              "2                        0                      0                        0  \n",
              "3                        0                      1                        0  \n",
              "4                        0                      1                        0  \n",
              "\n",
              "[5 rows x 25 columns]"
            ],
            "text/html": [
              "\n",
              "  <div id=\"df-048baf4b-4ac3-47f6-a7fc-1b18bb500ef5\">\n",
              "    <div class=\"colab-df-container\">\n",
              "      <div>\n",
              "<style scoped>\n",
              "    .dataframe tbody tr th:only-of-type {\n",
              "        vertical-align: middle;\n",
              "    }\n",
              "\n",
              "    .dataframe tbody tr th {\n",
              "        vertical-align: top;\n",
              "    }\n",
              "\n",
              "    .dataframe thead th {\n",
              "        text-align: right;\n",
              "    }\n",
              "</style>\n",
              "<table border=\"1\" class=\"dataframe\">\n",
              "  <thead>\n",
              "    <tr style=\"text-align: right;\">\n",
              "      <th></th>\n",
              "      <th>user_id</th>\n",
              "      <th>partner_id</th>\n",
              "      <th>money_transacted</th>\n",
              "      <th>partner_pricing_category</th>\n",
              "      <th>year</th>\n",
              "      <th>month</th>\n",
              "      <th>day</th>\n",
              "      <th>payment_method_e_wallet_payments</th>\n",
              "      <th>payment_method_other_debit_cards</th>\n",
              "      <th>payment_method_sbi_atm_cum_debit_card</th>\n",
              "      <th>...</th>\n",
              "      <th>partner_category_cat_3</th>\n",
              "      <th>partner_category_cat_4</th>\n",
              "      <th>partner_category_cat_5</th>\n",
              "      <th>partner_category_cat_6</th>\n",
              "      <th>partner_category_cat_7</th>\n",
              "      <th>partner_category_cat_8</th>\n",
              "      <th>device_type_android_devices</th>\n",
              "      <th>device_type_ios_devices</th>\n",
              "      <th>device_type_other_pcs</th>\n",
              "      <th>device_type_windows_pcs</th>\n",
              "    </tr>\n",
              "  </thead>\n",
              "  <tbody>\n",
              "    <tr>\n",
              "      <th>0</th>\n",
              "      <td>3802500</td>\n",
              "      <td>118335</td>\n",
              "      <td>200.0</td>\n",
              "      <td>2</td>\n",
              "      <td>2016</td>\n",
              "      <td>12</td>\n",
              "      <td>28</td>\n",
              "      <td>0</td>\n",
              "      <td>0</td>\n",
              "      <td>0</td>\n",
              "      <td>...</td>\n",
              "      <td>0</td>\n",
              "      <td>0</td>\n",
              "      <td>0</td>\n",
              "      <td>0</td>\n",
              "      <td>0</td>\n",
              "      <td>0</td>\n",
              "      <td>0</td>\n",
              "      <td>0</td>\n",
              "      <td>1</td>\n",
              "      <td>0</td>\n",
              "    </tr>\n",
              "    <tr>\n",
              "      <th>1</th>\n",
              "      <td>200704</td>\n",
              "      <td>23667</td>\n",
              "      <td>20.0</td>\n",
              "      <td>2</td>\n",
              "      <td>2016</td>\n",
              "      <td>12</td>\n",
              "      <td>14</td>\n",
              "      <td>1</td>\n",
              "      <td>0</td>\n",
              "      <td>0</td>\n",
              "      <td>...</td>\n",
              "      <td>0</td>\n",
              "      <td>0</td>\n",
              "      <td>0</td>\n",
              "      <td>0</td>\n",
              "      <td>0</td>\n",
              "      <td>0</td>\n",
              "      <td>0</td>\n",
              "      <td>0</td>\n",
              "      <td>1</td>\n",
              "      <td>0</td>\n",
              "    </tr>\n",
              "    <tr>\n",
              "      <th>2</th>\n",
              "      <td>25150225</td>\n",
              "      <td>47334</td>\n",
              "      <td>-100.0</td>\n",
              "      <td>2</td>\n",
              "      <td>2017</td>\n",
              "      <td>1</td>\n",
              "      <td>21</td>\n",
              "      <td>0</td>\n",
              "      <td>0</td>\n",
              "      <td>1</td>\n",
              "      <td>...</td>\n",
              "      <td>0</td>\n",
              "      <td>0</td>\n",
              "      <td>0</td>\n",
              "      <td>0</td>\n",
              "      <td>0</td>\n",
              "      <td>0</td>\n",
              "      <td>1</td>\n",
              "      <td>0</td>\n",
              "      <td>0</td>\n",
              "      <td>0</td>\n",
              "    </tr>\n",
              "    <tr>\n",
              "      <th>3</th>\n",
              "      <td>21827584</td>\n",
              "      <td>78890</td>\n",
              "      <td>200.0</td>\n",
              "      <td>1</td>\n",
              "      <td>2017</td>\n",
              "      <td>1</td>\n",
              "      <td>16</td>\n",
              "      <td>0</td>\n",
              "      <td>0</td>\n",
              "      <td>0</td>\n",
              "      <td>...</td>\n",
              "      <td>0</td>\n",
              "      <td>0</td>\n",
              "      <td>0</td>\n",
              "      <td>0</td>\n",
              "      <td>0</td>\n",
              "      <td>0</td>\n",
              "      <td>0</td>\n",
              "      <td>0</td>\n",
              "      <td>1</td>\n",
              "      <td>0</td>\n",
              "    </tr>\n",
              "    <tr>\n",
              "      <th>4</th>\n",
              "      <td>576081</td>\n",
              "      <td>23667</td>\n",
              "      <td>100.0</td>\n",
              "      <td>2</td>\n",
              "      <td>2017</td>\n",
              "      <td>2</td>\n",
              "      <td>9</td>\n",
              "      <td>1</td>\n",
              "      <td>0</td>\n",
              "      <td>0</td>\n",
              "      <td>...</td>\n",
              "      <td>0</td>\n",
              "      <td>0</td>\n",
              "      <td>0</td>\n",
              "      <td>0</td>\n",
              "      <td>0</td>\n",
              "      <td>0</td>\n",
              "      <td>0</td>\n",
              "      <td>0</td>\n",
              "      <td>1</td>\n",
              "      <td>0</td>\n",
              "    </tr>\n",
              "  </tbody>\n",
              "</table>\n",
              "<p>5 rows × 25 columns</p>\n",
              "</div>\n",
              "      <button class=\"colab-df-convert\" onclick=\"convertToInteractive('df-048baf4b-4ac3-47f6-a7fc-1b18bb500ef5')\"\n",
              "              title=\"Convert this dataframe to an interactive table.\"\n",
              "              style=\"display:none;\">\n",
              "        \n",
              "  <svg xmlns=\"http://www.w3.org/2000/svg\" height=\"24px\"viewBox=\"0 0 24 24\"\n",
              "       width=\"24px\">\n",
              "    <path d=\"M0 0h24v24H0V0z\" fill=\"none\"/>\n",
              "    <path d=\"M18.56 5.44l.94 2.06.94-2.06 2.06-.94-2.06-.94-.94-2.06-.94 2.06-2.06.94zm-11 1L8.5 8.5l.94-2.06 2.06-.94-2.06-.94L8.5 2.5l-.94 2.06-2.06.94zm10 10l.94 2.06.94-2.06 2.06-.94-2.06-.94-.94-2.06-.94 2.06-2.06.94z\"/><path d=\"M17.41 7.96l-1.37-1.37c-.4-.4-.92-.59-1.43-.59-.52 0-1.04.2-1.43.59L10.3 9.45l-7.72 7.72c-.78.78-.78 2.05 0 2.83L4 21.41c.39.39.9.59 1.41.59.51 0 1.02-.2 1.41-.59l7.78-7.78 2.81-2.81c.8-.78.8-2.07 0-2.86zM5.41 20L4 18.59l7.72-7.72 1.47 1.35L5.41 20z\"/>\n",
              "  </svg>\n",
              "      </button>\n",
              "      \n",
              "  <style>\n",
              "    .colab-df-container {\n",
              "      display:flex;\n",
              "      flex-wrap:wrap;\n",
              "      gap: 12px;\n",
              "    }\n",
              "\n",
              "    .colab-df-convert {\n",
              "      background-color: #E8F0FE;\n",
              "      border: none;\n",
              "      border-radius: 50%;\n",
              "      cursor: pointer;\n",
              "      display: none;\n",
              "      fill: #1967D2;\n",
              "      height: 32px;\n",
              "      padding: 0 0 0 0;\n",
              "      width: 32px;\n",
              "    }\n",
              "\n",
              "    .colab-df-convert:hover {\n",
              "      background-color: #E2EBFA;\n",
              "      box-shadow: 0px 1px 2px rgba(60, 64, 67, 0.3), 0px 1px 3px 1px rgba(60, 64, 67, 0.15);\n",
              "      fill: #174EA6;\n",
              "    }\n",
              "\n",
              "    [theme=dark] .colab-df-convert {\n",
              "      background-color: #3B4455;\n",
              "      fill: #D2E3FC;\n",
              "    }\n",
              "\n",
              "    [theme=dark] .colab-df-convert:hover {\n",
              "      background-color: #434B5C;\n",
              "      box-shadow: 0px 1px 3px 1px rgba(0, 0, 0, 0.15);\n",
              "      filter: drop-shadow(0px 1px 2px rgba(0, 0, 0, 0.3));\n",
              "      fill: #FFFFFF;\n",
              "    }\n",
              "  </style>\n",
              "\n",
              "      <script>\n",
              "        const buttonEl =\n",
              "          document.querySelector('#df-048baf4b-4ac3-47f6-a7fc-1b18bb500ef5 button.colab-df-convert');\n",
              "        buttonEl.style.display =\n",
              "          google.colab.kernel.accessAllowed ? 'block' : 'none';\n",
              "\n",
              "        async function convertToInteractive(key) {\n",
              "          const element = document.querySelector('#df-048baf4b-4ac3-47f6-a7fc-1b18bb500ef5');\n",
              "          const dataTable =\n",
              "            await google.colab.kernel.invokeFunction('convertToInteractive',\n",
              "                                                     [key], {});\n",
              "          if (!dataTable) return;\n",
              "\n",
              "          const docLinkHtml = 'Like what you see? Visit the ' +\n",
              "            '<a target=\"_blank\" href=https://colab.research.google.com/notebooks/data_table.ipynb>data table notebook</a>'\n",
              "            + ' to learn more about interactive tables.';\n",
              "          element.innerHTML = '';\n",
              "          dataTable['output_type'] = 'display_data';\n",
              "          await google.colab.output.renderOutput(dataTable, element);\n",
              "          const docLink = document.createElement('div');\n",
              "          docLink.innerHTML = docLinkHtml;\n",
              "          element.appendChild(docLink);\n",
              "        }\n",
              "      </script>\n",
              "    </div>\n",
              "  </div>\n",
              "  "
            ]
          },
          "metadata": {},
          "execution_count": 47
        }
      ]
    },
    {
      "cell_type": "code",
      "source": [
        "testdata.columns"
      ],
      "metadata": {
        "colab": {
          "base_uri": "https://localhost:8080/"
        },
        "id": "tAJEDCnXrIUS",
        "outputId": "ef4b8236-3685-4505-ba5c-df6c1eaeab0b"
      },
      "execution_count": 48,
      "outputs": [
        {
          "output_type": "execute_result",
          "data": {
            "text/plain": [
              "Index(['user_id', 'partner_id', 'money_transacted', 'partner_pricing_category',\n",
              "       'year', 'month', 'day', 'payment_method_e_wallet_payments',\n",
              "       'payment_method_other_debit_cards',\n",
              "       'payment_method_sbi_atm_cum_debit_card',\n",
              "       'payment_method_unified_payments_interface',\n",
              "       'payment_method_visa_master_credit_cards',\n",
              "       'payment_method_visa_master_debit_cards', 'partner_category_cat_1',\n",
              "       'partner_category_cat_2', 'partner_category_cat_3',\n",
              "       'partner_category_cat_4', 'partner_category_cat_5',\n",
              "       'partner_category_cat_6', 'partner_category_cat_7',\n",
              "       'partner_category_cat_8', 'device_type_android_devices',\n",
              "       'device_type_ios_devices', 'device_type_other_pcs',\n",
              "       'device_type_windows_pcs'],\n",
              "      dtype='object')"
            ]
          },
          "metadata": {},
          "execution_count": 48
        }
      ]
    },
    {
      "cell_type": "markdown",
      "source": [
        "### split the data for training and testing"
      ],
      "metadata": {
        "id": "aNrVDdcR0nWX"
      }
    },
    {
      "cell_type": "code",
      "source": [
        "from sklearn.model_selection import train_test_split"
      ],
      "metadata": {
        "id": "mYAYo6cKrNsy"
      },
      "execution_count": 49,
      "outputs": []
    },
    {
      "cell_type": "code",
      "source": [
        "y=data[\"is_fraud\"]\n",
        "X=data.drop(['is_fraud','partner_category_cat_9'],axis=1)\n",
        "X_train,X_test,y_train,y_test=train_test_split(X,y,test_size=0.20,random_state=123)"
      ],
      "metadata": {
        "id": "0l8rkEBb1oTq"
      },
      "execution_count": 50,
      "outputs": []
    },
    {
      "cell_type": "code",
      "source": [
        "print(X_train.shape)\n",
        "print(X_test.shape)\n",
        "print(y_train.shape)\n",
        "print(y_test.shape)"
      ],
      "metadata": {
        "colab": {
          "base_uri": "https://localhost:8080/"
        },
        "id": "DGhRSJAc2POs",
        "outputId": "85ba9c88-b033-4741-8153-d1b34e93821d"
      },
      "execution_count": 51,
      "outputs": [
        {
          "output_type": "stream",
          "name": "stdout",
          "text": [
            "(61223, 25)\n",
            "(15306, 25)\n",
            "(61223,)\n",
            "(15306,)\n"
          ]
        }
      ]
    },
    {
      "cell_type": "code",
      "source": [
        "num_attr=X_train.select_dtypes(['int64','float64']).columns\n",
        "num_attr"
      ],
      "metadata": {
        "colab": {
          "base_uri": "https://localhost:8080/"
        },
        "id": "6y-gz2j_2Z1u",
        "outputId": "e60267ba-e510-4294-d59d-6dc40bea197a"
      },
      "execution_count": 52,
      "outputs": [
        {
          "output_type": "execute_result",
          "data": {
            "text/plain": [
              "Index(['user_id', 'partner_id', 'money_transacted', 'partner_pricing_category',\n",
              "       'year', 'month', 'day'],\n",
              "      dtype='object')"
            ]
          },
          "metadata": {},
          "execution_count": 52
        }
      ]
    },
    {
      "cell_type": "markdown",
      "source": [
        "### Standardizing the data"
      ],
      "metadata": {
        "id": "8ALBx4552ryo"
      }
    },
    {
      "cell_type": "code",
      "source": [
        "from sklearn.preprocessing import StandardScaler"
      ],
      "metadata": {
        "id": "Arx_3aHI2pet"
      },
      "execution_count": 53,
      "outputs": []
    },
    {
      "cell_type": "code",
      "source": [
        "num_attr=X_train.select_dtypes(['int64','float64']).columns\n",
        "num_attr=X_test.select_dtypes(['int64','float64']).columns\n",
        "print(num_attr)\n",
        "print(num_attr)"
      ],
      "metadata": {
        "colab": {
          "base_uri": "https://localhost:8080/"
        },
        "id": "eUoYcEwy3cR4",
        "outputId": "1a63d70c-2f94-4f12-e69d-2e4adb9497d4"
      },
      "execution_count": 54,
      "outputs": [
        {
          "output_type": "stream",
          "name": "stdout",
          "text": [
            "Index(['user_id', 'partner_id', 'money_transacted', 'partner_pricing_category',\n",
            "       'year', 'month', 'day'],\n",
            "      dtype='object')\n",
            "Index(['user_id', 'partner_id', 'money_transacted', 'partner_pricing_category',\n",
            "       'year', 'month', 'day'],\n",
            "      dtype='object')\n"
          ]
        }
      ]
    },
    {
      "cell_type": "code",
      "source": [
        "scaler = StandardScaler()"
      ],
      "metadata": {
        "id": "g_bJi3My4EmG"
      },
      "execution_count": 55,
      "outputs": []
    },
    {
      "cell_type": "code",
      "source": [
        "X_train[num_attr]=scaler.fit_transform(X_train[num_attr])\n",
        "X_test[num_attr]=scaler.transform(X_test[num_attr])"
      ],
      "metadata": {
        "id": "M1Qs5XVH4LcI"
      },
      "execution_count": 56,
      "outputs": []
    },
    {
      "cell_type": "code",
      "source": [
        "print(X_train.shape)\n",
        "print(X_test.shape)"
      ],
      "metadata": {
        "colab": {
          "base_uri": "https://localhost:8080/"
        },
        "id": "VJfpWn7n4Qxf",
        "outputId": "ae1afc5b-7adc-4693-a2f0-7822105d28af"
      },
      "execution_count": 57,
      "outputs": [
        {
          "output_type": "stream",
          "name": "stdout",
          "text": [
            "(61223, 25)\n",
            "(15306, 25)\n"
          ]
        }
      ]
    },
    {
      "cell_type": "markdown",
      "source": [
        "#### Model Building"
      ],
      "metadata": {
        "id": "cCOyPVQ5QL7J"
      }
    },
    {
      "cell_type": "markdown",
      "source": [
        "### Logistic Regression model"
      ],
      "metadata": {
        "id": "TLr36wfW4kVS"
      }
    },
    {
      "cell_type": "code",
      "source": [
        "from sklearn.linear_model import LogisticRegression"
      ],
      "metadata": {
        "id": "43KLbTb84fFO"
      },
      "execution_count": 58,
      "outputs": []
    },
    {
      "cell_type": "code",
      "source": [
        "lr=LogisticRegression()"
      ],
      "metadata": {
        "id": "m39Bhgfo5BLz"
      },
      "execution_count": 59,
      "outputs": []
    },
    {
      "cell_type": "code",
      "source": [
        "lr.fit(X_train,y_train)"
      ],
      "metadata": {
        "colab": {
          "base_uri": "https://localhost:8080/"
        },
        "id": "kiQZBpfX5EiN",
        "outputId": "2973fca6-88f5-41bf-a2a4-3b479cdb8850"
      },
      "execution_count": 60,
      "outputs": [
        {
          "output_type": "execute_result",
          "data": {
            "text/plain": [
              "LogisticRegression()"
            ]
          },
          "metadata": {},
          "execution_count": 60
        }
      ]
    },
    {
      "cell_type": "code",
      "source": [
        "X_train_pred=lr.predict(X_train)\n",
        "X_test_pred=lr.predict(X_test)"
      ],
      "metadata": {
        "id": "u0XuOOUn5Ilj"
      },
      "execution_count": 61,
      "outputs": []
    },
    {
      "cell_type": "code",
      "source": [
        "from sklearn.metrics import accuracy_score, f1_score"
      ],
      "metadata": {
        "id": "rRAucObL5gKi"
      },
      "execution_count": 62,
      "outputs": []
    },
    {
      "cell_type": "code",
      "source": [
        "accuracy_score(y_train,X_train_pred)"
      ],
      "metadata": {
        "colab": {
          "base_uri": "https://localhost:8080/"
        },
        "id": "wBH4xh4f5o6j",
        "outputId": "9b998f7d-9c95-48c0-e73b-77a20347a4a2"
      },
      "execution_count": 63,
      "outputs": [
        {
          "output_type": "execute_result",
          "data": {
            "text/plain": [
              "0.9984319618444049"
            ]
          },
          "metadata": {},
          "execution_count": 63
        }
      ]
    },
    {
      "cell_type": "code",
      "source": [
        "accuracy_score(y_test,X_test_pred)"
      ],
      "metadata": {
        "colab": {
          "base_uri": "https://localhost:8080/"
        },
        "id": "L20nKWTf5xcW",
        "outputId": "286d732b-0d54-4fe7-c1e9-9d0cc891f51e"
      },
      "execution_count": 64,
      "outputs": [
        {
          "output_type": "execute_result",
          "data": {
            "text/plain": [
              "0.9976479811838495"
            ]
          },
          "metadata": {},
          "execution_count": 64
        }
      ]
    },
    {
      "cell_type": "code",
      "source": [
        "f1_score(y_train,X_train_pred)"
      ],
      "metadata": {
        "colab": {
          "base_uri": "https://localhost:8080/"
        },
        "id": "zKX6dg2z55uT",
        "outputId": "2f2da4cf-a43a-4c22-a799-e4ebd8e4e882"
      },
      "execution_count": 65,
      "outputs": [
        {
          "output_type": "execute_result",
          "data": {
            "text/plain": [
              "0.4545454545454545"
            ]
          },
          "metadata": {},
          "execution_count": 65
        }
      ]
    },
    {
      "cell_type": "code",
      "source": [
        "f1_score(y_test,X_test_pred)"
      ],
      "metadata": {
        "colab": {
          "base_uri": "https://localhost:8080/"
        },
        "id": "CEFYPhPg5_y-",
        "outputId": "6d931a51-a66b-4219-8db3-3b7f3a9dfb48"
      },
      "execution_count": 66,
      "outputs": [
        {
          "output_type": "execute_result",
          "data": {
            "text/plain": [
              "0.28"
            ]
          },
          "metadata": {},
          "execution_count": 66
        }
      ]
    },
    {
      "cell_type": "markdown",
      "source": [
        "### Decissiontree Classifier"
      ],
      "metadata": {
        "id": "d9dockdy6VhK"
      }
    },
    {
      "cell_type": "code",
      "source": [
        "from sklearn.tree import DecisionTreeClassifier"
      ],
      "metadata": {
        "id": "7kTHMU-R6H-f"
      },
      "execution_count": 67,
      "outputs": []
    },
    {
      "cell_type": "code",
      "source": [
        "DT=DecisionTreeClassifier()"
      ],
      "metadata": {
        "id": "VE4VRUwL6h6D"
      },
      "execution_count": 68,
      "outputs": []
    },
    {
      "cell_type": "code",
      "source": [
        "DT.fit(X_train,y_train)"
      ],
      "metadata": {
        "colab": {
          "base_uri": "https://localhost:8080/"
        },
        "id": "nnoR5RNZ6k5g",
        "outputId": "074dea76-54ca-42d6-a7e0-0188ee1d0cf8"
      },
      "execution_count": 69,
      "outputs": [
        {
          "output_type": "execute_result",
          "data": {
            "text/plain": [
              "DecisionTreeClassifier()"
            ]
          },
          "metadata": {},
          "execution_count": 69
        }
      ]
    },
    {
      "cell_type": "code",
      "source": [
        "X_train_pred=DT.predict(X_train)\n",
        "X_test_pred=DT.predict(X_test)"
      ],
      "metadata": {
        "id": "moB_0Tuz6sb8"
      },
      "execution_count": 70,
      "outputs": []
    },
    {
      "cell_type": "code",
      "source": [
        "f1_score(y_train,X_train_pred)"
      ],
      "metadata": {
        "colab": {
          "base_uri": "https://localhost:8080/"
        },
        "id": "IT-Yn5hi65zd",
        "outputId": "f5cc62d3-19e2-42bc-e9dc-9867fa4ab9f3"
      },
      "execution_count": 71,
      "outputs": [
        {
          "output_type": "execute_result",
          "data": {
            "text/plain": [
              "0.9870129870129869"
            ]
          },
          "metadata": {},
          "execution_count": 71
        }
      ]
    },
    {
      "cell_type": "code",
      "source": [
        "f1_score(y_test,X_test_pred)"
      ],
      "metadata": {
        "colab": {
          "base_uri": "https://localhost:8080/"
        },
        "id": "4xmCm6mN7BaL",
        "outputId": "f1c7a51e-396c-4d76-a1c0-f1098f70dd87"
      },
      "execution_count": 72,
      "outputs": [
        {
          "output_type": "execute_result",
          "data": {
            "text/plain": [
              "0.9014084507042254"
            ]
          },
          "metadata": {},
          "execution_count": 72
        }
      ]
    },
    {
      "cell_type": "markdown",
      "source": [
        "### Rnadom forest classifier"
      ],
      "metadata": {
        "id": "fNH0F_fN7bNa"
      }
    },
    {
      "cell_type": "code",
      "source": [
        "from sklearn.ensemble import RandomForestClassifier"
      ],
      "metadata": {
        "id": "GIivGgKb7K_q"
      },
      "execution_count": 73,
      "outputs": []
    },
    {
      "cell_type": "code",
      "source": [
        "RF=RandomForestClassifier()"
      ],
      "metadata": {
        "id": "bxjN5fk872ff"
      },
      "execution_count": 74,
      "outputs": []
    },
    {
      "cell_type": "code",
      "source": [
        "RF.fit(X_train,y_train)"
      ],
      "metadata": {
        "colab": {
          "base_uri": "https://localhost:8080/"
        },
        "id": "f7pdLSpp754y",
        "outputId": "653651af-c676-4b86-fca2-8f647e1755f1"
      },
      "execution_count": 75,
      "outputs": [
        {
          "output_type": "execute_result",
          "data": {
            "text/plain": [
              "RandomForestClassifier()"
            ]
          },
          "metadata": {},
          "execution_count": 75
        }
      ]
    },
    {
      "cell_type": "code",
      "source": [
        "X_train_pred=RF.predict(X_train)\n",
        "X_test_pred=RF.predict(X_test)"
      ],
      "metadata": {
        "id": "e1r9-Kve8DI2"
      },
      "execution_count": 76,
      "outputs": []
    },
    {
      "cell_type": "code",
      "source": [
        "f1_score(y_train,X_train_pred)"
      ],
      "metadata": {
        "colab": {
          "base_uri": "https://localhost:8080/"
        },
        "id": "XYvDkDBx84_2",
        "outputId": "4bbaf26a-a3f4-48b9-adfa-7f683cf95e85"
      },
      "execution_count": 77,
      "outputs": [
        {
          "output_type": "execute_result",
          "data": {
            "text/plain": [
              "0.9872340425531915"
            ]
          },
          "metadata": {},
          "execution_count": 77
        }
      ]
    },
    {
      "cell_type": "code",
      "source": [
        "f1_score(y_test,X_test_pred)"
      ],
      "metadata": {
        "colab": {
          "base_uri": "https://localhost:8080/"
        },
        "id": "12dTcmDO9CzO",
        "outputId": "99d4ca5a-2bc5-4a4f-b8d5-041e1531be76"
      },
      "execution_count": 78,
      "outputs": [
        {
          "output_type": "execute_result",
          "data": {
            "text/plain": [
              "0.8059701492537312"
            ]
          },
          "metadata": {},
          "execution_count": 78
        }
      ]
    },
    {
      "cell_type": "markdown",
      "source": [
        "### KNN"
      ],
      "metadata": {
        "id": "hFK4j5KELnGh"
      }
    },
    {
      "cell_type": "code",
      "source": [
        "from sklearn.neighbors import KNeighborsClassifier"
      ],
      "metadata": {
        "id": "Us5hNLV5JvzC"
      },
      "execution_count": 79,
      "outputs": []
    },
    {
      "cell_type": "code",
      "source": [
        "KNN=KNeighborsClassifier()"
      ],
      "metadata": {
        "id": "ndP1zB9RKCDB"
      },
      "execution_count": 80,
      "outputs": []
    },
    {
      "cell_type": "code",
      "source": [
        "KNN.fit(X_train,y_train)"
      ],
      "metadata": {
        "colab": {
          "base_uri": "https://localhost:8080/"
        },
        "id": "IWXVWOBmKF8r",
        "outputId": "c02bf467-ff6b-42b3-cdf9-9e6511787adc"
      },
      "execution_count": 81,
      "outputs": [
        {
          "output_type": "execute_result",
          "data": {
            "text/plain": [
              "KNeighborsClassifier()"
            ]
          },
          "metadata": {},
          "execution_count": 81
        }
      ]
    },
    {
      "cell_type": "code",
      "source": [
        "X_train_pred=KNN.predict(X_train)\n",
        "X_test_pred=KNN.predict(X_test)"
      ],
      "metadata": {
        "id": "g5ZR3bwUKo9J"
      },
      "execution_count": 82,
      "outputs": []
    },
    {
      "cell_type": "code",
      "source": [
        "f1_score(y_train,X_train_pred)"
      ],
      "metadata": {
        "colab": {
          "base_uri": "https://localhost:8080/"
        },
        "id": "ntpGkmlDLOgj",
        "outputId": "1db6ded3-e233-43c6-fadc-3206698ef4c8"
      },
      "execution_count": 83,
      "outputs": [
        {
          "output_type": "execute_result",
          "data": {
            "text/plain": [
              "0.8679245283018867"
            ]
          },
          "metadata": {},
          "execution_count": 83
        }
      ]
    },
    {
      "cell_type": "code",
      "source": [
        "f1_score(y_test,X_test_pred)"
      ],
      "metadata": {
        "colab": {
          "base_uri": "https://localhost:8080/"
        },
        "id": "sr84BChuLV8X",
        "outputId": "9d798edb-e76e-41bf-80b6-bdad5a554158"
      },
      "execution_count": 84,
      "outputs": [
        {
          "output_type": "execute_result",
          "data": {
            "text/plain": [
              "0.8656716417910447"
            ]
          },
          "metadata": {},
          "execution_count": 84
        }
      ]
    },
    {
      "cell_type": "markdown",
      "source": [
        "### Predicting the Original Test data with Best Model"
      ],
      "metadata": {
        "id": "yoVeu9OeSaZs"
      }
    },
    {
      "cell_type": "code",
      "source": [
        "for i in data:\n",
        "  print(i)"
      ],
      "metadata": {
        "colab": {
          "base_uri": "https://localhost:8080/"
        },
        "id": "aONrS5NxM7nG",
        "outputId": "2f02bc7e-d240-4f19-9f48-19ddca42dd9d"
      },
      "execution_count": 85,
      "outputs": [
        {
          "output_type": "stream",
          "name": "stdout",
          "text": [
            "user_id\n",
            "partner_id\n",
            "money_transacted\n",
            "partner_pricing_category\n",
            "is_fraud\n",
            "year\n",
            "month\n",
            "day\n",
            "payment_method_e_wallet_payments\n",
            "payment_method_other_debit_cards\n",
            "payment_method_sbi_atm_cum_debit_card\n",
            "payment_method_unified_payments_interface\n",
            "payment_method_visa_master_credit_cards\n",
            "payment_method_visa_master_debit_cards\n",
            "partner_category_cat_1\n",
            "partner_category_cat_2\n",
            "partner_category_cat_3\n",
            "partner_category_cat_4\n",
            "partner_category_cat_5\n",
            "partner_category_cat_6\n",
            "partner_category_cat_7\n",
            "partner_category_cat_8\n",
            "partner_category_cat_9\n",
            "device_type_android_devices\n",
            "device_type_ios_devices\n",
            "device_type_other_pcs\n",
            "device_type_windows_pcs\n"
          ]
        }
      ]
    },
    {
      "cell_type": "code",
      "source": [
        "for j in testdata:\n",
        "  print(j)"
      ],
      "metadata": {
        "colab": {
          "base_uri": "https://localhost:8080/"
        },
        "id": "gACsLFIUTJRT",
        "outputId": "53e60cdd-b8f4-4c2a-d1c9-b707c3c23121"
      },
      "execution_count": 86,
      "outputs": [
        {
          "output_type": "stream",
          "name": "stdout",
          "text": [
            "user_id\n",
            "partner_id\n",
            "money_transacted\n",
            "partner_pricing_category\n",
            "year\n",
            "month\n",
            "day\n",
            "payment_method_e_wallet_payments\n",
            "payment_method_other_debit_cards\n",
            "payment_method_sbi_atm_cum_debit_card\n",
            "payment_method_unified_payments_interface\n",
            "payment_method_visa_master_credit_cards\n",
            "payment_method_visa_master_debit_cards\n",
            "partner_category_cat_1\n",
            "partner_category_cat_2\n",
            "partner_category_cat_3\n",
            "partner_category_cat_4\n",
            "partner_category_cat_5\n",
            "partner_category_cat_6\n",
            "partner_category_cat_7\n",
            "partner_category_cat_8\n",
            "device_type_android_devices\n",
            "device_type_ios_devices\n",
            "device_type_other_pcs\n",
            "device_type_windows_pcs\n"
          ]
        }
      ]
    },
    {
      "cell_type": "code",
      "source": [
        "bestmodel=KNN.predict(testdata)"
      ],
      "metadata": {
        "id": "ZWJ1etodVF8F"
      },
      "execution_count": 87,
      "outputs": []
    },
    {
      "cell_type": "code",
      "source": [
        "bestmodel[0:500]"
      ],
      "metadata": {
        "colab": {
          "base_uri": "https://localhost:8080/"
        },
        "id": "bMJhuZd0a4Ln",
        "outputId": "b477da2f-7182-480b-f6af-8195798061da"
      },
      "execution_count": 88,
      "outputs": [
        {
          "output_type": "execute_result",
          "data": {
            "text/plain": [
              "array([0, 0, 0, 0, 0, 0, 0, 0, 0, 0, 0, 0, 0, 0, 0, 0, 0, 0, 0, 0, 0, 0,\n",
              "       0, 0, 0, 0, 0, 0, 0, 0, 0, 0, 0, 0, 0, 0, 0, 0, 0, 0, 0, 0, 0, 0,\n",
              "       0, 0, 0, 0, 0, 0, 0, 0, 0, 0, 0, 0, 0, 0, 0, 0, 0, 0, 0, 0, 0, 0,\n",
              "       0, 0, 0, 0, 0, 0, 0, 0, 0, 0, 0, 0, 0, 0, 0, 0, 0, 0, 0, 0, 0, 0,\n",
              "       0, 0, 0, 0, 0, 0, 0, 0, 0, 0, 0, 0, 0, 0, 0, 0, 0, 0, 0, 0, 0, 0,\n",
              "       0, 0, 0, 0, 0, 0, 0, 0, 0, 0, 0, 0, 0, 0, 0, 0, 0, 0, 0, 0, 0, 0,\n",
              "       0, 0, 0, 0, 0, 0, 0, 0, 0, 0, 0, 0, 0, 0, 0, 0, 0, 0, 0, 0, 0, 0,\n",
              "       0, 0, 0, 0, 0, 0, 0, 0, 0, 0, 0, 0, 0, 0, 0, 0, 0, 0, 0, 0, 0, 0,\n",
              "       0, 0, 0, 0, 0, 0, 0, 0, 0, 0, 0, 0, 0, 0, 0, 0, 0, 0, 0, 0, 0, 0,\n",
              "       0, 0, 0, 0, 0, 0, 0, 0, 0, 0, 0, 0, 0, 0, 0, 0, 0, 0, 0, 0, 0, 0,\n",
              "       0, 0, 0, 0, 0, 0, 0, 0, 0, 0, 0, 0, 0, 0, 0, 0, 0, 0, 0, 0, 0, 0,\n",
              "       0, 0, 0, 0, 0, 0, 0, 0, 0, 0, 0, 0, 0, 0, 0, 0, 0, 0, 0, 0, 0, 0,\n",
              "       0, 0, 0, 0, 0, 0, 0, 0, 0, 0, 0, 0, 0, 0, 0, 0, 0, 0, 0, 0, 0, 0,\n",
              "       0, 0, 0, 0, 0, 0, 0, 0, 0, 0, 0, 0, 0, 0, 0, 0, 0, 0, 0, 0, 0, 0,\n",
              "       0, 0, 0, 0, 0, 0, 0, 0, 0, 0, 0, 0, 0, 0, 0, 0, 0, 0, 0, 0, 0, 0,\n",
              "       0, 0, 0, 0, 0, 0, 0, 0, 0, 0, 0, 0, 0, 0, 0, 0, 0, 0, 0, 0, 0, 0,\n",
              "       0, 0, 0, 0, 0, 0, 0, 0, 0, 0, 0, 0, 0, 0, 0, 0, 0, 0, 0, 0, 0, 0,\n",
              "       0, 0, 0, 0, 0, 0, 0, 0, 0, 0, 0, 0, 0, 0, 0, 0, 0, 0, 0, 0, 0, 0,\n",
              "       0, 0, 0, 0, 0, 0, 0, 0, 0, 0, 1, 0, 0, 0, 0, 0, 0, 0, 0, 0, 0, 0,\n",
              "       0, 0, 0, 0, 0, 0, 0, 0, 0, 0, 0, 0, 0, 0, 0, 0, 0, 0, 0, 0, 0, 0,\n",
              "       0, 0, 0, 0, 0, 0, 0, 0, 0, 0, 0, 0, 0, 0, 0, 0, 0, 0, 0, 0, 0, 0,\n",
              "       0, 0, 0, 0, 0, 0, 0, 0, 0, 0, 0, 0, 0, 0, 0, 0, 0, 0, 0, 0, 0, 0,\n",
              "       0, 0, 0, 0, 0, 0, 0, 0, 0, 0, 0, 0, 0, 0, 0, 0])"
            ]
          },
          "metadata": {},
          "execution_count": 88
        }
      ]
    },
    {
      "cell_type": "code",
      "source": [
        "predictions=pd.DataFrame(bestmodel, columns=['is_fraud']).to_csv('bestmodel.csv',index=False)"
      ],
      "metadata": {
        "id": "Cvo6KT0-bCO9"
      },
      "execution_count": 91,
      "outputs": []
    },
    {
      "cell_type": "code",
      "source": [],
      "metadata": {
        "id": "pimvcBiRejCK"
      },
      "execution_count": null,
      "outputs": []
    }
  ]
}